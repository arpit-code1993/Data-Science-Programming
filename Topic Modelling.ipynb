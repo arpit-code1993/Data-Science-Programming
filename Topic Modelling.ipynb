{
 "cells": [
  {
   "cell_type": "markdown",
   "metadata": {},
   "source": [
    "# Topic Modelling on News Groups Dataset using LDA\n",
    "\n",
    "`fetch_20newsgroups` is a function which is present in scikit learn datasets\n",
    "\n",
    "**newsgroups_train and newsgroups_test contains train and test data respectively**"
   ]
  },
  {
   "cell_type": "code",
   "execution_count": 1,
   "metadata": {},
   "outputs": [],
   "source": [
    "from sklearn.datasets import fetch_20newsgroups\n",
    "newsgroups_train = fetch_20newsgroups(subset='train', shuffle = True,random_state=42, remove=('headers', 'footers', 'quotes'))\n",
    "newsgroups_test = fetch_20newsgroups(subset='test', shuffle = True,random_state=42, remove=('headers', 'footers', 'quotes'))"
   ]
  },
  {
   "cell_type": "code",
   "execution_count": 2,
   "metadata": {
    "scrolled": false
   },
   "outputs": [
    {
     "data": {
      "text/plain": [
       "['I was wondering if anyone out there could enlighten me on this car I saw\\nthe other day. It was a 2-door sports car, looked to be from the late 60s/\\nearly 70s. It was called a Bricklin. The doors were really small. In addition,\\nthe front bumper was separate from the rest of the body. This is \\nall I know. If anyone can tellme a model name, engine specs, years\\nof production, where this car is made, history, or whatever info you\\nhave on this funky looking car, please e-mail.',\n",
       " \"A fair number of brave souls who upgraded their SI clock oscillator have\\nshared their experiences for this poll. Please send a brief message detailing\\nyour experiences with the procedure. Top speed attained, CPU rated speed,\\nadd on cards and adapters, heat sinks, hour of usage per day, floppy disk\\nfunctionality with 800 and 1.4 m floppies are especially requested.\\n\\nI will be summarizing in the next two days, so please add to the network\\nknowledge base if you have done the clock upgrade and haven't answered this\\npoll. Thanks.\",\n",
       " 'well folks, my mac plus finally gave up the ghost this weekend after\\nstarting life as a 512k way back in 1985.  sooo, i\\'m in the market for a\\nnew machine a bit sooner than i intended to be...\\n\\ni\\'m looking into picking up a powerbook 160 or maybe 180 and have a bunch\\nof questions that (hopefully) somebody can answer:\\n\\n* does anybody know any dirt on when the next round of powerbook\\nintroductions are expected?  i\\'d heard the 185c was supposed to make an\\nappearence \"this summer\" but haven\\'t heard anymore on it - and since i\\ndon\\'t have access to macleak, i was wondering if anybody out there had\\nmore info...\\n\\n* has anybody heard rumors about price drops to the powerbook line like the\\nones the duo\\'s just went through recently?\\n\\n* what\\'s the impression of the display on the 180?  i could probably swing\\na 180 if i got the 80Mb disk rather than the 120, but i don\\'t really have\\na feel for how much \"better\" the display is (yea, it looks great in the\\nstore, but is that all \"wow\" or is it really that good?).  could i solicit\\nsome opinions of people who use the 160 and 180 day-to-day on if its worth\\ntaking the disk size and money hit to get the active display?  (i realize\\nthis is a real subjective question, but i\\'ve only played around with the\\nmachines in a computer store breifly and figured the opinions of somebody\\nwho actually uses the machine daily might prove helpful).\\n\\n* how well does hellcats perform?  ;)\\n\\nthanks a bunch in advance for any info - if you could email, i\\'ll post a\\nsummary (news reading time is at a premium with finals just around the\\ncorner... :( )\\n--\\nTom Willis  \\\\  twillis@ecn.purdue.edu    \\\\    Purdue Electrical Engineering',\n",
       " \"\\nDo you have Weitek's address/phone number?  I'd like to get some information\\nabout this chip.\\n\",\n",
       " \"From article <C5owCB.n3p@world.std.com>, by tombaker@world.std.com (Tom A Baker):\\n\\n\\nMy understanding is that the 'expected errors' are basically\\nknown bugs in the warning system software - things are checked\\nthat don't have the right values in yet because they aren't\\nset till after launch, and suchlike. Rather than fix the code\\nand possibly introduce new bugs, they just tell the crew\\n'ok, if you see a warning no. 213 before liftoff, ignore it'.\"]"
      ]
     },
     "execution_count": 2,
     "metadata": {},
     "output_type": "execute_result"
    }
   ],
   "source": [
    "#initializing documents an array which contains the training data\n",
    "documents=newsgroups_train.data\n",
    "documents[0:5]"
   ]
  },
  {
   "cell_type": "code",
   "execution_count": 3,
   "metadata": {},
   "outputs": [
    {
     "name": "stdout",
     "output_type": "stream",
     "text": [
      "['alt.atheism', 'comp.graphics', 'comp.os.ms-windows.misc', 'comp.sys.ibm.pc.hardware', 'comp.sys.mac.hardware', 'comp.windows.x', 'misc.forsale', 'rec.autos', 'rec.motorcycles', 'rec.sport.baseball', 'rec.sport.hockey', 'sci.crypt', 'sci.electronics', 'sci.med', 'sci.space', 'soc.religion.christian', 'talk.politics.guns', 'talk.politics.mideast', 'talk.politics.misc', 'talk.religion.misc']\n"
     ]
    }
   ],
   "source": [
    "#checking the target names for the respective documents\n",
    "print(list(newsgroups_train.target_names))"
   ]
  },
  {
   "cell_type": "markdown",
   "metadata": {},
   "source": [
    "**Basic Preprocessing using Regular Expressions**"
   ]
  },
  {
   "cell_type": "code",
   "execution_count": 4,
   "metadata": {},
   "outputs": [],
   "source": [
    "import re\n",
    "sentences=[]\n",
    "for i in documents:\n",
    "    #x =str(i, 'utf-8')\n",
    "    sentences.append(' '.join(re.sub(\"(@[A-Za-z0-9]+)|([^0-9A-Za-z \\t])|(\\w+:\\/\\/\\S+)|(\\n)\",\" \",i).split()))"
   ]
  },
  {
   "cell_type": "code",
   "execution_count": 5,
   "metadata": {
    "scrolled": true
   },
   "outputs": [
    {
     "name": "stdout",
     "output_type": "stream",
     "text": [
      "I was wondering if anyone out there could enlighten me on this car I saw\n",
      "the other day. It was a 2-door sports car, looked to be from the late 60s/\n",
      "early 70s. It was called a Bricklin. The doors were really small. In addition,\n",
      "the front bumper was separate from the rest of the body. This is \n",
      "all I know. If anyone can tellme a model name, engine specs, years\n",
      "of production, where this car is made, history, or whatever info you\n",
      "have on this funky looking car, please e-mail.\n",
      "I was wondering if anyone out there could enlighten me on this car I saw the other day It was a 2 door sports car looked to be from the late 60s early 70s It was called a Bricklin The doors were really small In addition the front bumper was separate from the rest of the body This is all I know If anyone can tellme a model name engine specs years of production where this car is made history or whatever info you have on this funky looking car please e mail\n"
     ]
    }
   ],
   "source": [
    "#printing to see how the training set is transformed using Regular Expressions\n",
    "print(documents[0])\n",
    "print(sentences[0])"
   ]
  },
  {
   "cell_type": "markdown",
   "metadata": {},
   "source": [
    "**Pre-Processing text using Stop-Word Removal, Tokenization and Lemmatization**"
   ]
  },
  {
   "cell_type": "code",
   "execution_count": 6,
   "metadata": {
    "scrolled": false
   },
   "outputs": [
    {
     "name": "stderr",
     "output_type": "stream",
     "text": [
      "100%|██████████████████████████████████████████████████████████████████████████| 11314/11314 [00:08<00:00, 1360.44it/s]\n",
      "IOPub data rate exceeded.\n",
      "The notebook server will temporarily stop sending output\n",
      "to the client in order to avoid crashing it.\n",
      "To change this limit, set the config variable\n",
      "`--NotebookApp.iopub_data_rate_limit`.\n",
      "\n",
      "Current values:\n",
      "NotebookApp.iopub_data_rate_limit=1000000.0 (bytes/sec)\n",
      "NotebookApp.rate_limit_window=3.0 (secs)\n",
      "\n"
     ]
    },
    {
     "name": "stdout",
     "output_type": "stream",
     "text": [
      "\n"
     ]
    }
   ],
   "source": [
    "#tqdm is used to report the status of loop\n",
    "from nltk.stem import WordNetLemmatizer\n",
    "lemmatizer = WordNetLemmatizer()\n",
    "from tqdm import tqdm\n",
    "out_arr=[]\n",
    "from nltk.corpus import stopwords\n",
    "stop_words = set(stopwords.words('english'))\n",
    "for sent in tqdm(sentences):\n",
    "    data = sent.split()\n",
    "    inn_arr=[]\n",
    "    for i in data:\n",
    "        if i not in stop_words:\n",
    "            inn_arr.append((lemmatizer.lemmatize(i.lower())))\n",
    "    out_arr.append(inn_arr)\n",
    "print(out_arr)"
   ]
  },
  {
   "cell_type": "code",
   "execution_count": 7,
   "metadata": {
    "scrolled": true
   },
   "outputs": [
    {
     "name": "stdout",
     "output_type": "stream",
     "text": [
      "I was wondering if anyone out there could enlighten me on this car I saw\n",
      "the other day. It was a 2-door sports car, looked to be from the late 60s/\n",
      "early 70s. It was called a Bricklin. The doors were really small. In addition,\n",
      "the front bumper was separate from the rest of the body. This is \n",
      "all I know. If anyone can tellme a model name, engine specs, years\n",
      "of production, where this car is made, history, or whatever info you\n",
      "have on this funky looking car, please e-mail.\n",
      "['i', 'wondering', 'anyone', 'could', 'enlighten', 'car', 'i', 'saw', 'day', 'it', '2', 'door', 'sport', 'car', 'looked', 'late', '60', 'early', '70', 'it', 'called', 'bricklin', 'the', 'door', 'really', 'small', 'in', 'addition', 'front', 'bumper', 'separate', 'rest', 'body', 'this', 'i', 'know', 'if', 'anyone', 'tellme', 'model', 'name', 'engine', 'spec', 'year', 'production', 'car', 'made', 'history', 'whatever', 'info', 'funky', 'looking', 'car', 'please', 'e', 'mail']\n"
     ]
    }
   ],
   "source": [
    "print(documents[0])\n",
    "print(out_arr[0])"
   ]
  },
  {
   "cell_type": "markdown",
   "metadata": {},
   "source": [
    "**Creating Dictionary and Corpora using gensim for LDA implementation**"
   ]
  },
  {
   "cell_type": "code",
   "execution_count": 8,
   "metadata": {},
   "outputs": [],
   "source": [
    "from gensim import corpora\n",
    "dictionary = corpora.Dictionary(out_arr)\n",
    "corpus = [dictionary.doc2bow(text) for text in out_arr]"
   ]
  },
  {
   "cell_type": "code",
   "execution_count": 9,
   "metadata": {},
   "outputs": [],
   "source": [
    "import pickle\n",
    "pickle.dump(corpus, open('corpus.pkl', 'wb'))\n",
    "dictionary.save('dictionary.gensim')"
   ]
  },
  {
   "cell_type": "code",
   "execution_count": 10,
   "metadata": {
    "scrolled": false
   },
   "outputs": [
    {
     "name": "stdout",
     "output_type": "stream",
     "text": [
      "(0, '0.039*\"m\" + 0.023*\"w\" + 0.018*\"s\" + 0.016*\"1\" + 0.014*\"x\" + 0.014*\"g\"')\n",
      "(1, '0.031*\"i\" + 0.012*\"the\" + 0.006*\"would\" + 0.006*\"one\" + 0.004*\"get\" + 0.004*\"like\"')\n",
      "(2, '0.033*\"i\" + 0.008*\"the\" + 0.007*\"people\" + 0.007*\"god\" + 0.007*\"one\" + 0.006*\"would\"')\n",
      "(3, '0.027*\"1\" + 0.026*\"0\" + 0.017*\"2\" + 0.012*\"3\" + 0.009*\"4\" + 0.009*\"x\"')\n",
      "(4, '0.418*\"ax\" + 0.031*\"max\" + 0.024*\"x\" + 0.024*\"q\" + 0.019*\"3\" + 0.011*\"p\"')\n"
     ]
    }
   ],
   "source": [
    "import gensim\n",
    "NUM_TOPICS = 5\n",
    "ldamodel = gensim.models.ldamodel.LdaModel(corpus, num_topics = NUM_TOPICS, id2word=dictionary, passes=15)\n",
    "lda=ldamodel.save('model3.gensim')\n",
    "topics = ldamodel.print_topics(num_words=6)\n",
    "for topic in topics:\n",
    "    print(topic)"
   ]
  },
  {
   "cell_type": "code",
   "execution_count": 11,
   "metadata": {
    "scrolled": true
   },
   "outputs": [],
   "source": [
    "#pip install pyLDAvis"
   ]
  },
  {
   "cell_type": "markdown",
   "metadata": {},
   "source": [
    "**Code to indicate word counts of topic keywords**"
   ]
  },
  {
   "cell_type": "code",
   "execution_count": 12,
   "metadata": {
    "scrolled": true
   },
   "outputs": [
    {
     "data": {
      "text/plain": [
       "<Figure size 2560x1600 with 8 Axes>"
      ]
     },
     "metadata": {},
     "output_type": "display_data"
    }
   ],
   "source": [
    "import pandas as pd\n",
    "import matplotlib.pyplot as plt\n",
    "import matplotlib.colors as mcolors\n",
    "from collections import Counter\n",
    "topics = ldamodel.show_topics(formatted=False)\n",
    "data_flat = [w for w_list in out_arr for w in w_list]\n",
    "counter = Counter(data_flat)\n",
    "topics = ldamodel.show_topics(formatted=False)\n",
    "out = []\n",
    "for i, topic in topics:\n",
    "    for word, weight in topic:\n",
    "        out.append([word, i , weight, counter[word]])\n",
    "\n",
    "df = pd.DataFrame(out, columns=['word', 'topic_id', 'importance', 'word_count'])        \n",
    "\n",
    "# Plot Word Count and Weights of Topic Keywords\n",
    "fig, axes = plt.subplots(2, 2, figsize=(16,10), sharey=True, dpi=160)\n",
    "cols = [color for name, color in mcolors.TABLEAU_COLORS.items()]\n",
    "for i, ax in enumerate(axes.flatten()):\n",
    "    ax.bar(x='word', height=\"word_count\", data=df.loc[df.topic_id==i, :], color=cols[i], width=0.5, alpha=0.3, label='Word Count')\n",
    "    ax_twin = ax.twinx()\n",
    "    ax_twin.bar(x='word', height=\"importance\", data=df.loc[df.topic_id==i, :], color=cols[i], width=0.2, label='Weights')\n",
    "    ax.set_ylabel('Word Count', color=cols[i])\n",
    "    ax_twin.set_ylim(0, 0.030); ax.set_ylim(0, 3500)\n",
    "    ax.set_title('Topic: ' + str(i), color=cols[i], fontsize=16)\n",
    "    ax.tick_params(axis='y', left=False)\n",
    "    ax.set_xticklabels(df.loc[df.topic_id==i, 'word'], rotation=30, horizontalalignment= 'right')\n",
    "    ax.legend(loc='upper left'); ax_twin.legend(loc='upper right')\n",
    "\n",
    "fig.tight_layout(w_pad=2)    \n",
    "fig.suptitle('Word Count and Importance of Topic Keywords', fontsize=22, y=1.05)    \n",
    "plt.show()"
   ]
  },
  {
   "cell_type": "code",
   "execution_count": 13,
   "metadata": {},
   "outputs": [],
   "source": [
    "def compute_coherence_values(dictionary, corpus, texts, stop, start=2, step=3):\n",
    "    \"\"\"\n",
    "    Compute c_v coherence for various number of topics\n",
    "\n",
    "    Parameters:\n",
    "    ----------\n",
    "    dictionary : Gensim dictionary\n",
    "    corpus : Gensim corpus\n",
    "    texts : List of input texts\n",
    "    limit : Max num of topics\n",
    "\n",
    "    Returns:\n",
    "    -------\n",
    "    model_list : List of LDA topic models\n",
    "    coherence_values : Coherence values corresponding to the LDA model with respective number of topics\n",
    "    \"\"\"\n",
    "    coherence_values = []\n",
    "    model_list = []\n",
    "    for num_topics in range(start, stop, step):\n",
    "        print('Calculating {}-topic model'.format(num_topics))\n",
    "        ldamodel = gensim.models.ldamodel.LdaModel(corpus, num_topics = NUM_TOPICS, id2word=dictionary, passes=15)\n",
    "        model_list.append(ldamodel)\n",
    "        coherencemodel = CoherenceModel(model=ldamodel, texts=texts, dictionary=dictionary, coherence='c_v')\n",
    "        coherence_values.append(coherencemodel.get_coherence())\n",
    "\n",
    "    return model_list, coherence_values"
   ]
  },
  {
   "cell_type": "code",
   "execution_count": 14,
   "metadata": {},
   "outputs": [
    {
     "name": "stdout",
     "output_type": "stream",
     "text": [
      "Calculating 5-topic model\n",
      "Calculating 6-topic model\n",
      "Calculating 7-topic model\n"
     ]
    }
   ],
   "source": [
    "from gensim.models import CoherenceModel\n",
    "start=5; stop=7; step=1;\n",
    "stop += 1\n",
    "model_list, coherence_values = compute_coherence_values(dictionary=dictionary,\n",
    "                                                        corpus=corpus,\n",
    "                                                        texts=out_arr,\n",
    "                                                        start=start,\n",
    "                                                        stop=stop,\n",
    "                                                        step=step)"
   ]
  },
  {
   "cell_type": "code",
   "execution_count": 15,
   "metadata": {},
   "outputs": [
    {
     "data": {
      "image/png": "[encoded data removed]",
      "text/plain": [
       "<Figure size 720x576 with 1 Axes>"
      ]
     },
     "metadata": {
      "needs_background": "light"
     },
     "output_type": "display_data"
    }
   ],
   "source": [
    "import matplotlib.pyplot as plt\n",
    "x = range(start, stop, step)\n",
    "plt.figure(figsize=(10, 8))\n",
    "plt.plot(x, coherence_values)\n",
    "plt.xlabel(\"Num Topics\")\n",
    "plt.ylabel(\"Coherence score\")\n",
    "# plt.legend((\"coherence_values\"), loc='best')\n",
    "plt.show()"
   ]
  },
  {
   "cell_type": "code",
   "execution_count": 16,
   "metadata": {},
   "outputs": [
    {
     "name": "stderr",
     "output_type": "stream",
     "text": [
      "C:\\Users\\FF733YY\\AppData\\Local\\Continuum\\anaconda3\\lib\\site-packages\\pyLDAvis\\_prepare.py:257: FutureWarning: Sorting because non-concatenation axis is not aligned. A future version\n",
      "of pandas will change to not sort by default.\n",
      "\n",
      "To accept the future behavior, pass 'sort=False'.\n",
      "\n",
      "To retain the current behavior and silence the warning, pass 'sort=True'.\n",
      "\n",
      "  return pd.concat([default_term_info] + list(topic_dfs))\n"
     ]
    },
    {
     "data": {
      "text/html": [
       "\n",
       "<link rel=\"stylesheet\" type=\"text/css\" href=\"https://cdn.rawgit.com/bmabey/pyLDAvis/files/ldavis.v1.0.0.css\">\n",
       "\n",
       "\n",
       "<div id=\"ldavis_el1622420129344315602734888893\"></div>\n",
       "<script type=\"text/javascript\">\n",
       "\n",
       "var ldavis_el1622420129344315602734888893_data = {\"mdsDat\": {\"x\": [-0.2557868228975319, -0.25407917350662246, -0.015631763831914516, 0.2841188387580731, 0.2413789214779961], \"y\": [0.014153418398904412, 0.12690446614977977, -0.2455004987092195, 0.1594806179785356, -0.05503800381800016], \"topics\": [1, 2, 3, 4, 5], \"cluster\": [1, 1, 1, 1, 1], \"Freq\": [44.82452392578125, 19.665817260742188, 18.156198501586914, 8.752985000610352, 8.600473403930664]}, \"tinfo\": {\"Category\": [\"Default\", \"Default\", \"Default\", \"Default\", \"Default\", \"Default\", \"Default\", \"Default\", \"Default\", \"Default\", \"Default\", \"Default\", \"Default\", \"Default\", \"Default\", \"Default\", \"Default\", \"Default\", \"Default\", \"Default\", \"Default\", \"Default\", \"Default\", \"Default\", \"Default\", \"Default\", \"Default\", \"Default\", \"Default\", \"Default\", \"Topic1\", \"Topic1\", \"Topic1\", \"Topic1\", \"Topic1\", \"Topic1\", \"Topic1\", \"Topic1\", \"Topic1\", \"Topic1\", \"Topic1\", \"Topic1\", \"Topic1\", \"Topic1\", \"Topic1\", \"Topic1\", \"Topic1\", \"Topic1\", \"Topic1\", \"Topic1\", \"Topic1\", \"Topic1\", \"Topic1\", \"Topic1\", \"Topic1\", \"Topic1\", \"Topic1\", \"Topic1\", \"Topic1\", \"Topic1\", \"Topic1\", \"Topic1\", \"Topic1\", \"Topic1\", \"Topic1\", \"Topic1\", \"Topic1\", \"Topic1\", \"Topic1\", \"Topic1\", \"Topic1\", \"Topic1\", \"Topic1\", \"Topic1\", \"Topic1\", \"Topic1\", \"Topic1\", \"Topic1\", \"Topic1\", \"Topic1\", \"Topic1\", \"Topic1\", \"Topic1\", \"Topic1\", \"Topic1\", \"Topic1\", \"Topic1\", \"Topic1\", \"Topic1\", \"Topic1\", \"Topic1\", \"Topic1\", \"Topic1\", \"Topic1\", \"Topic1\", \"Topic1\", \"Topic1\", \"Topic1\", \"Topic1\", \"Topic1\", \"Topic1\", \"Topic1\", \"Topic1\", \"Topic1\", \"Topic1\", \"Topic1\", \"Topic1\", \"Topic1\", \"Topic2\", \"Topic2\", \"Topic2\", \"Topic2\", \"Topic2\", \"Topic2\", \"Topic2\", \"Topic2\", \"Topic2\", \"Topic2\", \"Topic2\", \"Topic2\", \"Topic2\", \"Topic2\", \"Topic2\", \"Topic2\", \"Topic2\", \"Topic2\", \"Topic2\", \"Topic2\", \"Topic2\", \"Topic2\", \"Topic2\", \"Topic2\", \"Topic2\", \"Topic2\", \"Topic2\", \"Topic2\", \"Topic2\", \"Topic2\", \"Topic2\", \"Topic2\", \"Topic2\", \"Topic2\", \"Topic2\", \"Topic2\", \"Topic2\", \"Topic2\", \"Topic2\", \"Topic2\", \"Topic2\", \"Topic2\", \"Topic2\", \"Topic2\", \"Topic2\", \"Topic2\", \"Topic2\", \"Topic2\", \"Topic2\", \"Topic2\", \"Topic2\", \"Topic2\", \"Topic2\", \"Topic2\", \"Topic2\", \"Topic2\", \"Topic2\", \"Topic2\", \"Topic2\", \"Topic2\", \"Topic2\", \"Topic2\", \"Topic2\", \"Topic2\", \"Topic2\", \"Topic2\", \"Topic2\", \"Topic2\", \"Topic2\", \"Topic2\", \"Topic2\", \"Topic2\", \"Topic3\", \"Topic3\", \"Topic3\", \"Topic3\", \"Topic3\", \"Topic3\", \"Topic3\", \"Topic3\", \"Topic3\", \"Topic3\", \"Topic3\", \"Topic3\", \"Topic3\", \"Topic3\", \"Topic3\", \"Topic3\", \"Topic3\", \"Topic3\", \"Topic3\", \"Topic3\", \"Topic3\", \"Topic3\", \"Topic3\", \"Topic3\", \"Topic3\", \"Topic3\", \"Topic3\", \"Topic3\", \"Topic3\", \"Topic3\", \"Topic3\", \"Topic3\", \"Topic3\", \"Topic3\", \"Topic3\", \"Topic3\", \"Topic3\", \"Topic3\", \"Topic3\", \"Topic3\", \"Topic3\", \"Topic3\", \"Topic3\", \"Topic3\", \"Topic3\", \"Topic3\", \"Topic3\", \"Topic3\", \"Topic3\", \"Topic3\", \"Topic3\", \"Topic3\", \"Topic3\", \"Topic3\", \"Topic3\", \"Topic3\", \"Topic3\", \"Topic3\", \"Topic3\", \"Topic3\", \"Topic3\", \"Topic3\", \"Topic3\", \"Topic3\", \"Topic3\", \"Topic3\", \"Topic3\", \"Topic3\", \"Topic3\", \"Topic3\", \"Topic3\", \"Topic3\", \"Topic3\", \"Topic3\", \"Topic3\", \"Topic3\", \"Topic3\", \"Topic3\", \"Topic4\", \"Topic4\", \"Topic4\", \"Topic4\", \"Topic4\", \"Topic4\", \"Topic4\", \"Topic4\", \"Topic4\", \"Topic4\", \"Topic4\", \"Topic4\", \"Topic4\", \"Topic4\", \"Topic4\", \"Topic4\", \"Topic4\", \"Topic4\", \"Topic4\", \"Topic4\", \"Topic4\", \"Topic4\", \"Topic4\", \"Topic4\", \"Topic4\", \"Topic4\", \"Topic4\", \"Topic4\", \"Topic4\", \"Topic4\", \"Topic4\", \"Topic4\", \"Topic4\", \"Topic4\", \"Topic4\", \"Topic4\", \"Topic4\", \"Topic4\", \"Topic4\", \"Topic4\", \"Topic4\", \"Topic4\", \"Topic4\", \"Topic4\", \"Topic4\", \"Topic4\", \"Topic4\", \"Topic4\", \"Topic4\", \"Topic4\", \"Topic4\", \"Topic4\", \"Topic4\", \"Topic4\", \"Topic4\", \"Topic4\", \"Topic4\", \"Topic4\", \"Topic4\", \"Topic4\", \"Topic4\", \"Topic4\", \"Topic4\", \"Topic4\", \"Topic4\", \"Topic4\", \"Topic4\", \"Topic4\", \"Topic5\", \"Topic5\", \"Topic5\", \"Topic5\", \"Topic5\", \"Topic5\", \"Topic5\", \"Topic5\", \"Topic5\", \"Topic5\", \"Topic5\", \"Topic5\", \"Topic5\", \"Topic5\", \"Topic5\", \"Topic5\", \"Topic5\", \"Topic5\", \"Topic5\", \"Topic5\", \"Topic5\", \"Topic5\", \"Topic5\", \"Topic5\", \"Topic5\", \"Topic5\", \"Topic5\", \"Topic5\", \"Topic5\", \"Topic5\", \"Topic5\", \"Topic5\", \"Topic5\", \"Topic5\", \"Topic5\", \"Topic5\", \"Topic5\", \"Topic5\", \"Topic5\", \"Topic5\", \"Topic5\", \"Topic5\", \"Topic5\", \"Topic5\", \"Topic5\", \"Topic5\", \"Topic5\", \"Topic5\", \"Topic5\", \"Topic5\", \"Topic5\", \"Topic5\", \"Topic5\", \"Topic5\", \"Topic5\", \"Topic5\", \"Topic5\", \"Topic5\", \"Topic5\", \"Topic5\", \"Topic5\", \"Topic5\", \"Topic5\", \"Topic5\", \"Topic5\", \"Topic5\", \"Topic5\"], \"Freq\": [57266.0, 6845.0, 11217.0, 9078.0, 4286.0, 7816.0, 5217.0, 34538.0, 7569.0, 3808.0, 3438.0, 8041.0, 3862.0, 3364.0, 3394.0, 3620.0, 4312.0, 4162.0, 3620.0, 4661.0, 2072.0, 3691.0, 1782.0, 2729.0, 4420.0, 2529.0, 2253.0, 2370.0, 2999.0, 1928.0, 1766.7078857421875, 1021.0139770507812, 648.2068481445312, 556.534912109375, 496.4270324707031, 416.2344055175781, 413.19085693359375, 375.0221862792969, 1035.822998046875, 354.1697692871094, 344.7107238769531, 330.6553649902344, 326.22406005859375, 383.4974365234375, 314.0101318359375, 309.5613708496094, 309.8637390136719, 303.8392333984375, 309.81640625, 296.0482482910156, 439.2783508300781, 283.5230712890625, 284.5223083496094, 276.0379333496094, 271.03277587890625, 267.5289611816406, 268.3955993652344, 262.2548828125, 253.38124084472656, 249.6057586669922, 358.4508361816406, 1286.09033203125, 491.8623046875, 511.6861877441406, 359.1197814941406, 1180.3387451171875, 548.4627075195312, 892.3727416992188, 637.4443359375, 422.3807373046875, 750.6500854492188, 939.1737670898438, 478.9742431640625, 2466.563720703125, 560.2916259765625, 8181.9384765625, 561.0205688476562, 21604.005859375, 2979.358154296875, 1372.836181640625, 4271.43115234375, 1412.1424560546875, 2910.01318359375, 1280.0325927734375, 1702.5615234375, 2289.134033203125, 2506.619140625, 4199.29248046875, 1849.9969482421875, 1548.3782958984375, 2471.986572265625, 1777.7059326171875, 2403.026611328125, 2785.3466796875, 1385.1177978515625, 1639.6842041015625, 2110.888427734375, 1692.96728515625, 2067.549072265625, 1748.1842041015625, 1699.6405029296875, 2581.05419921875, 1569.2213134765625, 1747.2420654296875, 1585.401123046875, 1519.603515625, 1708.59033203125, 1587.838134765625, 2252.5078125, 884.8688354492188, 596.3694458007812, 556.1278686523438, 515.747802734375, 427.8888244628906, 396.10943603515625, 386.992919921875, 309.702880859375, 301.28448486328125, 243.6622314453125, 236.57827758789062, 264.2776184082031, 209.33216857910156, 203.16148376464844, 195.37693786621094, 177.76412963867188, 172.2232666015625, 173.97703552246094, 168.57203674316406, 157.3438262939453, 151.5584259033203, 149.07901000976562, 147.5983123779297, 144.63009643554688, 133.70806884765625, 133.44046020507812, 131.1399688720703, 877.9237670898438, 120.63998413085938, 552.9025268554688, 270.08380126953125, 519.31640625, 401.12103271484375, 556.596435546875, 235.6152801513672, 268.489013671875, 438.93829345703125, 232.93963623046875, 294.43353271484375, 797.833251953125, 257.4393310546875, 660.85009765625, 532.487548828125, 2254.122802734375, 1169.6103515625, 1497.5693359375, 467.49176025390625, 926.141357421875, 10124.42578125, 952.294921875, 583.6298217773438, 2243.939453125, 1307.844970703125, 948.7462768554688, 1774.71337890625, 2472.9482421875, 969.5567016601562, 1205.3631591796875, 923.1647338867188, 1300.8480224609375, 888.8051147460938, 852.086181640625, 857.2173461914062, 827.9378051757812, 1080.23974609375, 975.009521484375, 984.6316528320312, 952.103515625, 778.1817016601562, 839.5261840820312, 863.6822509765625, 568.63720703125, 395.5587158203125, 392.3376159667969, 347.7442626953125, 331.4857177734375, 258.6743469238281, 257.4681701660156, 481.94189453125, 204.25115966796875, 195.67030334472656, 194.38165283203125, 189.86135864257812, 190.1812286376953, 170.82469177246094, 170.11932373046875, 153.03018188476562, 149.1057586669922, 625.2372436523438, 136.33946228027344, 134.58651733398438, 131.75653076171875, 125.834716796875, 254.0857391357422, 133.28086853027344, 121.4516830444336, 117.11088562011719, 113.44579315185547, 113.27313232421875, 112.42461395263672, 112.30366516113281, 183.32618713378906, 634.8319091796875, 154.3177032470703, 1782.1824951171875, 641.5233154296875, 368.4464416503906, 1003.8045043945312, 376.07733154296875, 292.03851318359375, 306.5428771972656, 242.0158233642578, 297.27691650390625, 416.32672119140625, 493.245361328125, 7345.2041015625, 602.3396606445312, 572.0615844726562, 637.8158569335938, 530.3867797851562, 1806.428466796875, 1020.1317138671875, 7675.14599609375, 837.1251831054688, 892.9627075195312, 875.447998046875, 691.1600341796875, 4921.33056640625, 1123.1669921875, 1492.41796875, 2648.23828125, 693.7318115234375, 1151.095703125, 3338.170166015625, 2239.149169921875, 710.0013427734375, 1706.4075927734375, 1589.14794921875, 2469.854248046875, 849.2748413085938, 1617.28857421875, 957.9417724609375, 1137.80615234375, 1145.5360107421875, 698.63623046875, 673.4570922851562, 955.9766235351562, 961.9553833007812, 738.686767578125, 57265.2890625, 358.96759033203125, 260.32366943359375, 4268.98095703125, 165.62254333496094, 113.9113540649414, 101.56211853027344, 101.30481719970703, 94.82505798339844, 99.30044555664062, 90.08870697021484, 88.34226989746094, 87.26300811767578, 1202.34130859375, 82.6588363647461, 78.11173248291016, 75.28238677978516, 74.00225067138672, 290.6501159667969, 71.55543518066406, 69.78573608398438, 69.51866912841797, 69.18914031982422, 68.724853515625, 67.5997314453125, 67.07620239257812, 67.2095718383789, 65.95697021484375, 72.11611938476562, 62.362892150878906, 676.5501708984375, 293.3739318847656, 799.831787109375, 373.8482666015625, 329.66259765625, 498.64080810546875, 96.80445861816406, 325.3006591796875, 362.3965148925781, 173.94192504882812, 597.5932006835938, 385.6269836425781, 121.6890869140625, 180.79714965820312, 447.9892883300781, 177.40428161621094, 3226.286376953125, 180.54745483398438, 247.83514404296875, 149.4561309814453, 525.200927734375, 3274.05908203125, 300.8993225097656, 2580.505126953125, 1515.1632080078125, 1306.5142822265625, 1114.8494873046875, 1292.3310546875, 1062.375732421875, 1393.45166015625, 572.8865356445312, 668.0404663085938, 694.6130981445312, 455.7629699707031, 377.77569580078125, 384.4687194824219, 359.8341064453125, 335.7901306152344, 709.72314453125, 362.5140380859375, 302.88861083984375, 253.50112915039062, 179.31240844726562, 142.4750518798828, 142.49041748046875, 134.0728759765625, 127.92420959472656, 117.76551818847656, 117.43331146240234, 113.02983093261719, 112.46183776855469, 109.57547760009766, 109.52706909179688, 104.83531951904297, 104.16314697265625, 100.8181381225586, 99.87865447998047, 96.68296813964844, 95.94284057617188, 188.18695068359375, 91.48764038085938, 88.10173797607422, 88.18055725097656, 86.20460510253906, 79.40315246582031, 78.69860076904297, 76.00506591796875, 73.94795989990234, 174.30247497558594, 1162.6109619140625, 1611.35595703125, 3114.761962890625, 1711.7662353515625, 186.8648223876953, 5181.68896484375, 170.1705780029297, 2484.710205078125, 1460.359619140625, 1217.7572021484375, 1308.5433349609375, 943.834716796875, 1216.7572021484375, 991.2798461914062, 1467.9224853515625, 1291.8076171875, 1496.391845703125, 1883.331298828125, 1831.106201171875, 1724.458984375, 1740.5408935546875, 1492.7259521484375, 1470.1053466796875, 1128.6656494140625, 1536.0909423828125, 1175.94921875, 1922.171630859375, 1491.18408203125, 2197.165771484375, 1205.366943359375, 885.7679443359375, 1133.0140380859375, 1468.64111328125, 1642.1038818359375, 1183.39892578125, 1224.500244140625], \"Term\": [\"ax\", \"m\", \"1\", \"0\", \"max\", \"x\", \"q\", \"i\", \"3\", \"w\", \"s\", \"2\", \"p\", \"r\", \"g\", \"c\", \"u\", \"7\", \"6\", \"4\", \"t\", \"8\", \"k\", \"n\", \"5\", \"v\", \"god\", \"b\", \"9\", \"z\", \"key\", \"gun\", \"president\", \"encryption\", \"security\", \"stephanopoulos\", \"turkish\", \"firearm\", \"car\", \"tax\", \"agency\", \"wire\", \"ripem\", \"million\", \"privacy\", \"federal\", \"launch\", \"engine\", \"safety\", \"satellite\", \"bike\", \"administration\", \"project\", \"clinton\", \"enforcement\", \"designed\", \"mile\", \"owner\", \"orbit\", \"congress\", \"paper\", \"government\", \"weapon\", \"company\", \"private\", \"space\", \"technology\", \"public\", \"cost\", \"clipper\", \"control\", \"chip\", \"buy\", \"year\", \"rate\", \"the\", \"national\", \"i\", \"get\", \"anyone\", \"would\", \"number\", \"like\", \"state\", \"two\", \"use\", \"time\", \"one\", \"could\", \"much\", \"know\", \"good\", \"if\", \"it\", \"used\", \"right\", \"this\", \"well\", \"also\", \"new\", \"make\", \"a\", \"in\", \"think\", \"system\", \"problem\", \"people\", \"u\", \"god\", \"jesus\", \"bible\", \"religion\", \"church\", \"faith\", \"christ\", \"atheist\", \"father\", \"religious\", \"lord\", \"atheism\", \"moral\", \"christianity\", \"scripture\", \"holy\", \"heaven\", \"catholic\", \"doctrine\", \"gay\", \"koresh\", \"homosexual\", \"azerbaijani\", \"islam\", \"eternal\", \"him\", \"morality\", \"revelation\", \"christian\", \"daughter\", \"jew\", \"sin\", \"belief\", \"truth\", \"evidence\", \"patient\", \"existence\", \"woman\", \"pain\", \"son\", \"life\", \"disease\", \"child\", \"human\", \"people\", \"he\", \"say\", \"argument\", \"believe\", \"i\", \"said\", \"word\", \"one\", \"think\", \"but\", \"would\", \"the\", \"and\", \"know\", \"thing\", \"it\", \"even\", \"see\", \"you\", \"many\", \"u\", \"if\", \"like\", \"time\", \"way\", \"this\", \"a\", \"scsi\", \"widget\", \"controller\", \"interface\", \"font\", \"jpeg\", \"ide\", \"format\", \"lib\", \"x11\", \"bios\", \"vga\", \"tar\", \"xterm\", \"x11r5\", \"det\", \"pixel\", \"graphic\", \"contrib\", \"cache\", \"chi\", \"xlib\", \"floppy\", \"postscript\", \"flyer\", \"menu\", \"stl\", \"adapter\", \"simms\", \"amiga\", \"128\", \"server\", \"486\", \"window\", \"ftp\", \"db\", \"00\", \"55\", \"ram\", \"mit\", \"gif\", \"unix\", \"pub\", \"32\", \"0\", \"mac\", \"pc\", \"color\", \"display\", \"file\", \"25\", \"1\", \"image\", \"card\", \"16\", \"disk\", \"2\", \"drive\", \"edu\", \"4\", \"11\", \"10\", \"3\", \"5\", \"version\", \"6\", \"8\", \"x\", \"com\", \"7\", \"program\", \"9\", \"c\", \"15\", \"software\", \"the\", \"i\", \"system\", \"ax\", \"giz\", \"7ey\", \"max\", \"bxn\", \"qax\", \"b4q\", \"nrhj\", \"b8e\", \"printf\", \"oname\", \"7kn\", \"7ez\", \"g9v\", \"1eq\", \"b8g\", \"1d9l\", \"mg9v\", \"2tm\", \"fprintf\", \"nuy\", \"wwiz\", \"obfuscated\", \"7ex\", \"ghj\", \"9f9\", \"ioccc\", \"qtm\", \"r8f\", \"mb8f\", \"a86\", \"2di\", \"b8f\", \"3t\", \"75u\", \"1d9\", \"eof\", \"0t\", \"bhj\", \"qq\", \"pl\", \"1t\", \"6um\", \"gk\", \"145\", \"0d\", \"q\", \"bj\", \"wm\", \"9v\", \"entry\", \"x\", \"34u\", \"3\", \"p\", \"r\", \"n\", \"7\", \"g\", \"m\", \"9\", \"a\", \"2\", \"v\", \"8\", \"5\", \"w\", \"b\", \"cx\", \"scx\", \"sc\", \"s6\", \"ck\", \"t7\", \"sy\", \"w1\", \"k8\", \"gcx\", \"m6\", \"bn\", \"yx\", \"c8\", \"uw\", \"ub\", \"qy\", \"8c\", \"6g\", \"t5\", \"g6\", \"w7\", \"te\", \"a7\", \"b8\", \"m0\", \"syx\", \"t4\", \"mcx\", \"13p\", \"mv\", \"y\", \"k\", \"w\", \"t\", \"lk\", \"m\", \"mc\", \"s\", \"z\", \"h\", \"l\", \"j\", \"d\", \"f\", \"b\", \"o\", \"v\", \"g\", \"c\", \"r\", \"p\", \"6\", \"8\", \"n\", \"u\", \"9\", \"x\", \"q\", \"1\", \"4\", \"e\", \"5\", \"0\", \"i\", \"a\", \"2\"], \"Total\": [57266.0, 6845.0, 11217.0, 9078.0, 4286.0, 7816.0, 5217.0, 34538.0, 7569.0, 3808.0, 3438.0, 8041.0, 3862.0, 3364.0, 3394.0, 3620.0, 4312.0, 4162.0, 3620.0, 4661.0, 2072.0, 3691.0, 1782.0, 2729.0, 4420.0, 2529.0, 2253.0, 2370.0, 2999.0, 1928.0, 1767.486572265625, 1021.7897338867188, 648.9845581054688, 557.3086547851562, 497.2021789550781, 417.0091857910156, 413.9704284667969, 375.7958679199219, 1037.9735107421875, 354.9450378417969, 345.490234375, 331.4283752441406, 326.99884033203125, 384.424072265625, 314.7832336425781, 310.3366394042969, 310.6407165527344, 304.6148986816406, 310.6133117675781, 296.8228454589844, 440.4535827636719, 284.2982177734375, 285.3110656738281, 276.8123779296875, 271.8060607910156, 268.30712890625, 269.1874694824219, 263.0341796875, 254.15957641601562, 250.38121032714844, 359.61993408203125, 1308.91552734375, 497.8050842285156, 518.5263061523438, 362.30120849609375, 1229.1597900390625, 558.2633056640625, 928.5819702148438, 657.4356689453125, 428.8258361816406, 781.9542846679688, 991.877197265625, 491.57635498046875, 2814.06982421875, 589.35595703125, 11616.916015625, 593.7048950195312, 34538.29296875, 3821.60498046875, 1641.644775390625, 6046.72802734375, 1715.8653564453125, 3986.984619140625, 1538.006103515625, 2202.843017578125, 3159.52734375, 3554.752685546875, 6627.0087890625, 2516.655517578125, 2042.9744873046875, 3684.953857421875, 2454.12890625, 3705.732177734375, 4499.8408203125, 1838.881591796875, 2335.853271484375, 3299.617919921875, 2441.765625, 3241.691162109375, 2561.13037109375, 2521.866943359375, 5836.28955078125, 2405.13818359375, 3055.66845703125, 2484.587890625, 2265.52783203125, 3963.294921875, 4312.61328125, 2253.29150390625, 885.649169921875, 597.1671142578125, 556.9087524414062, 516.5298461914062, 428.6697082519531, 396.889404296875, 387.7734680175781, 310.4874267578125, 302.0657958984375, 244.4463653564453, 237.35951232910156, 265.1854553222656, 210.1118927001953, 203.94403076171875, 196.15769958496094, 178.5449981689453, 173.00357055664062, 174.76820373535156, 169.35653686523438, 158.12559509277344, 152.3390350341797, 149.86178588867188, 148.38742065429688, 145.41265869140625, 134.4877166748047, 134.22018432617188, 131.9198760986328, 883.5037841796875, 121.42424011230469, 558.3435668945312, 273.2818298339844, 540.9667358398438, 416.1678161621094, 591.4888305664062, 244.53671264648438, 281.9007568359375, 482.6534423828125, 242.46963500976562, 316.564453125, 991.8718872070312, 273.2010192871094, 822.4334106445312, 649.7164306640625, 3963.294921875, 1785.06787109375, 2436.07861328125, 574.4594116210938, 1351.1988525390625, 34538.29296875, 1683.9713134765625, 873.473388671875, 6627.0087890625, 3055.66845703125, 1888.6629638671875, 6046.72802734375, 11616.916015625, 2380.067138671875, 3684.953857421875, 2219.656982421875, 4499.8408203125, 2210.8359375, 2162.60986328125, 2212.646728515625, 2044.830810546875, 4312.61328125, 3705.732177734375, 3986.984619140625, 3554.752685546875, 2215.951904296875, 3299.617919921875, 5836.28955078125, 569.4168701171875, 396.340087890625, 393.13311767578125, 348.5268249511719, 332.268310546875, 259.45513916015625, 258.248046875, 483.67193603515625, 205.02920532226562, 196.44863891601562, 195.1603240966797, 190.6407012939453, 190.96534729003906, 171.60369873046875, 170.8982391357422, 153.80825805664062, 149.88479614257812, 628.6618041992188, 137.11756896972656, 135.36962890625, 132.53567504882812, 126.6138916015625, 255.66458129882812, 134.1433868408203, 122.23919677734375, 117.89387512207031, 114.22388458251953, 114.05345153808594, 113.20448303222656, 113.08296966552734, 184.7752685546875, 647.9927978515625, 155.67088317871094, 1866.8341064453125, 662.7045288085938, 377.58734130859375, 1067.3824462890625, 388.6393737792969, 299.8441467285156, 315.4584655761719, 247.68017578125, 307.57781982421875, 438.55084228515625, 525.3880615234375, 9078.302734375, 651.9857177734375, 618.9783325195312, 701.2160034179688, 580.6802978515625, 2226.3857421875, 1204.1904296875, 11217.2666015625, 975.1911010742188, 1061.2269287109375, 1059.626708984375, 809.9793701171875, 8041.6064453125, 1511.634765625, 2136.269287109375, 4661.9990234375, 878.7627563476562, 1742.2279052734375, 7569.6767578125, 4420.84423828125, 930.5339965820312, 3620.80615234375, 3691.67236328125, 7816.9951171875, 1316.8590087890625, 4162.2294921875, 1839.3182373046875, 2999.16015625, 3620.18212890625, 1043.4952392578125, 907.8910522460938, 11616.916015625, 34538.29296875, 2484.587890625, 57266.05078125, 359.7288818359375, 261.0871276855469, 4286.49365234375, 166.3783721923828, 114.66706848144531, 102.31800079345703, 102.06059265136719, 95.58092498779297, 100.09493255615234, 90.84589385986328, 89.09803771972656, 88.01878356933594, 1213.32373046875, 83.4146957397461, 78.86759185791016, 76.03816223144531, 74.75800323486328, 293.74139404296875, 72.31950378417969, 70.5415267944336, 70.27442932128906, 69.94908142089844, 69.4805679321289, 68.35551452636719, 67.83196258544922, 67.96922302246094, 66.71277618408203, 72.96224975585938, 63.118770599365234, 693.2686767578125, 300.1026611328125, 833.0444946289062, 393.62969970703125, 350.2210693359375, 542.290283203125, 99.23799133300781, 350.758544921875, 397.50347900390625, 184.05653381347656, 697.8505859375, 437.0136413574219, 127.74726104736328, 197.34872436523438, 548.5389404296875, 195.10365295410156, 5217.6416015625, 202.34664916992188, 294.4100646972656, 164.82017517089844, 776.313720703125, 7816.9951171875, 409.199462890625, 7569.6767578125, 3862.0400390625, 3364.728759765625, 2729.75341796875, 4162.2294921875, 3394.525146484375, 6845.72998046875, 2999.16015625, 5836.28955078125, 8041.6064453125, 2529.39794921875, 3691.67236328125, 4420.84423828125, 3808.64501953125, 2370.48583984375, 710.53564453125, 363.3194274902344, 303.7279968261719, 254.3070526123047, 180.11964416503906, 143.2804412841797, 143.3013458251953, 134.88230895996094, 128.72979736328125, 118.57091522216797, 118.23977661132812, 113.83776092529297, 113.27063751220703, 110.38433074951172, 110.3370590209961, 105.64389038085938, 104.96870422363281, 101.627685546875, 100.68535614013672, 97.49209594726562, 96.74943542480469, 189.7924041748047, 92.29993438720703, 88.90872955322266, 88.99018859863281, 87.0141372680664, 80.20854949951172, 79.50878143310547, 76.81045532226562, 74.75334930419922, 176.4243621826172, 1221.9803466796875, 1782.9110107421875, 3808.64501953125, 2072.78076171875, 197.48965454101562, 6845.72998046875, 180.99267578125, 3438.418701171875, 1928.5029296875, 1582.4510498046875, 1748.205078125, 1236.6981201171875, 1742.27392578125, 1446.6348876953125, 2370.48583984375, 2075.578857421875, 2529.39794921875, 3394.525146484375, 3620.18212890625, 3364.728759765625, 3862.0400390625, 3620.80615234375, 3691.67236328125, 2729.75341796875, 4312.61328125, 2999.16015625, 7816.9951171875, 5217.6416015625, 11217.2666015625, 4661.9990234375, 2532.529296875, 4420.84423828125, 9078.302734375, 34538.29296875, 5836.28955078125, 8041.6064453125], \"loglift\": [30.0, 29.0, 28.0, 27.0, 26.0, 25.0, 24.0, 23.0, 22.0, 21.0, 20.0, 19.0, 18.0, 17.0, 16.0, 15.0, 14.0, 13.0, 12.0, 11.0, 10.0, 9.0, 8.0, 7.0, 6.0, 5.0, 4.0, 3.0, 2.0, 1.0, 0.8019999861717224, 0.8016999959945679, 0.8011999726295471, 0.8009999990463257, 0.8008999824523926, 0.800599992275238, 0.8004999756813049, 0.8004000186920166, 0.8003000020980835, 0.8001999855041504, 0.8001999855041504, 0.8001000285148621, 0.800000011920929, 0.800000011920929, 0.800000011920929, 0.7998999953269958, 0.7998999953269958, 0.7998999953269958, 0.7997999787330627, 0.7997999787330627, 0.7997000217437744, 0.7997000217437744, 0.7996000051498413, 0.7996000051498413, 0.7996000051498413, 0.7994999885559082, 0.7994999885559082, 0.7993999719619751, 0.7993000149726868, 0.7993000149726868, 0.7991999983787537, 0.7847999930381775, 0.7904000282287598, 0.7890999913215637, 0.7936000227928162, 0.761900007724762, 0.7846999764442444, 0.7626000046730042, 0.7714999914169312, 0.7872999906539917, 0.7616000175476074, 0.7477999925613403, 0.7764000296592712, 0.6705999970436096, 0.751800000667572, 0.45190000534057617, 0.7458000183105469, 0.33320000767707825, 0.5534999966621399, 0.6236000061035156, 0.454800009727478, 0.6075999736785889, 0.48750001192092896, 0.6187999844551086, 0.5447999835014343, 0.48019999265670776, 0.4530999958515167, 0.34619998931884766, 0.49470001459121704, 0.5252000093460083, 0.4032000005245209, 0.47999998927116394, 0.3693000078201294, 0.32269999384880066, 0.5189999938011169, 0.44850000739097595, 0.35569998621940613, 0.43619999289512634, 0.35269999504089355, 0.4205000102519989, 0.40779998898506165, -0.013500000350177288, 0.37540000677108765, 0.2434999942779541, 0.3531000018119812, 0.40310001373291016, -0.039000000804662704, -0.19679999351501465, 1.6259000301361084, 1.6253999471664429, 1.625, 1.624899983406067, 1.6247999668121338, 1.624500036239624, 1.6243000030517578, 1.6243000030517578, 1.6238000392913818, 1.6237000226974487, 1.6231000423431396, 1.6230000257492065, 1.6229000091552734, 1.6225999593734741, 1.6224000453948975, 1.6223000288009644, 1.621899962425232, 1.6217999458312988, 1.6217999458312988, 1.6216000318527222, 1.6212999820709229, 1.6211999654769897, 1.6210999488830566, 1.621000051498413, 1.62090003490448, 1.6204999685287476, 1.6204999685287476, 1.6203999519348145, 1.6200000047683716, 1.6197999715805054, 1.6165000200271606, 1.6145000457763672, 1.5853999853134155, 1.5894999504089355, 1.565500020980835, 1.5891000032424927, 1.5774999856948853, 1.5312999486923218, 1.5861999988555908, 1.5537999868392944, 1.4085999727249146, 1.5669000148773193, 1.4075000286102295, 1.427299976348877, 1.062000036239624, 1.2035000324249268, 1.1397000551223755, 1.420199990272522, 1.2486000061035156, 0.3991999924182892, 1.0563000440597534, 1.223099946975708, 0.54339998960495, 0.7777000069618225, 0.9377999901771545, 0.4004000127315521, 0.07919999957084656, 0.7282000184059143, 0.5088000297546387, 0.7490000128746033, 0.38530001044273376, 0.7149999737739563, 0.6948999762535095, 0.6779999732971191, 0.7221999764442444, 0.2418999969959259, 0.29109999537467957, 0.22779999673366547, 0.30889999866485596, 0.579800009727478, 0.25760000944137573, -0.28439998626708984, 1.704800009727478, 1.704200029373169, 1.7041000127792358, 1.7038999795913696, 1.7037999629974365, 1.7030999660491943, 1.7030999660491943, 1.7026000022888184, 1.7023999691009521, 1.7022000551223755, 1.7022000551223755, 1.7021000385284424, 1.7020000219345093, 1.7015999555587769, 1.7015999555587769, 1.7010999917984009, 1.7008999586105347, 1.700700044631958, 1.7005000114440918, 1.7003999948501587, 1.7002999782562256, 1.7000000476837158, 1.7000000476837158, 1.6996999979019165, 1.6996999979019165, 1.6994999647140503, 1.6993000507354736, 1.6993000507354736, 1.6992000341415405, 1.6992000341415405, 1.6983000040054321, 1.6856000423431396, 1.6973999738693237, 1.6598000526428223, 1.673699975013733, 1.6816999912261963, 1.644700050354004, 1.67330002784729, 1.679800033569336, 1.6775000095367432, 1.6829999685287476, 1.6720999479293823, 1.6541999578475952, 1.6430000066757202, 1.4943000078201294, 1.6269999742507935, 1.6273000240325928, 1.6114000082015991, 1.6155999898910522, 1.4970999956130981, 1.5403000116348267, 1.32669997215271, 1.5535000562667847, 1.5334999561309814, 1.5152000188827515, 1.5475000143051147, 1.2151000499725342, 1.40910005569458, 1.347499966621399, 1.1405999660491943, 1.4696999788284302, 1.291700005531311, 0.8873999714851379, 1.0259000062942505, 1.4357000589370728, 0.9538999795913696, 0.8633000254631042, 0.5540000200271606, 1.2675000429153442, 0.7609000205993652, 1.0537999868392944, 0.7368999719619751, 0.5554999709129333, 1.3049999475479126, 1.4075000286102295, -0.7912999987602234, -1.8746999502182007, 0.49320000410079956, 2.435800075531006, 2.4337000846862793, 2.432800054550171, 2.4316999912261963, 2.4312000274658203, 2.4291999340057373, 2.4284000396728516, 2.428299903869629, 2.427799940109253, 2.427799940109253, 2.4274001121520996, 2.427299976348877, 2.4272000789642334, 2.4267001152038574, 2.4267001152038574, 2.426100015640259, 2.425800085067749, 2.425600051879883, 2.4251999855041504, 2.4251999855041504, 2.424999952316284, 2.424999952316284, 2.4249000549316406, 2.424799919128418, 2.4247000217437744, 2.4245998859405518, 2.424499988555908, 2.4244000911712646, 2.424099922180176, 2.4237000942230225, 2.411400079727173, 2.413100004196167, 2.3951001167297363, 2.384200096130371, 2.3752999305725098, 2.351900100708008, 2.410900115966797, 2.3603999614715576, 2.3433001041412354, 2.379300117492676, 2.2806999683380127, 2.310699939727783, 2.387200117111206, 2.3482000827789307, 2.233299970626831, 2.3406999111175537, 1.9551000595092773, 2.3217999935150146, 2.2636001110076904, 2.337899923324585, 2.0450000762939453, 1.565500020980835, 2.1282999515533447, 1.3595999479293823, 1.500100016593933, 1.489799976348877, 1.5403000116348267, 1.2661999464035034, 1.2740999460220337, 0.8439000248908997, 0.7803999781608582, 0.26829999685287476, -0.013299999758601189, 0.722000002861023, 0.15620000660419464, -0.006399999838322401, 0.07639999687671661, 0.4814000129699707, 2.452199935913086, 2.4511001110076904, 2.4505999088287354, 2.450200080871582, 2.448899984359741, 2.447700023651123, 2.447700023651123, 2.4472999572753906, 2.4470999240875244, 2.446500062942505, 2.446500062942505, 2.446199893951416, 2.446199893951416, 2.446000099182129, 2.446000099182129, 2.44569993019104, 2.4456000328063965, 2.4453999996185303, 2.4453001022338867, 2.444999933242798, 2.444999933242798, 2.4449000358581543, 2.444499969482422, 2.444200038909912, 2.444200038909912, 2.444000005722046, 2.4433000087738037, 2.4430999755859375, 2.4428000450134277, 2.442500114440918, 2.4412999153137207, 2.4035000801086426, 2.3522000312805176, 2.25219988822937, 2.26200008392334, 2.398099899291992, 2.1749000549316406, 2.391700029373169, 2.128499984741211, 2.175299882888794, 2.1914000511169434, 2.1637001037597656, 2.1830999851226807, 2.094399929046631, 2.0754001140594482, 1.9740999937057495, 1.979200005531311, 1.9284000396728516, 1.8641999959945679, 1.7717000246047974, 1.7848999500274658, 1.6563999652862549, 1.5672999620437622, 1.5326000452041626, 1.570199966430664, 1.4210000038146973, 1.5170999765396118, 1.0505000352859497, 1.2008999586105347, 0.8230999708175659, 1.1007000207901, 1.4027999639511108, 1.0918999910354614, 0.6317999958992004, -0.5927000045776367, 0.8575999736785889, 0.5713000297546387], \"logprob\": [30.0, 29.0, 28.0, 27.0, 26.0, 25.0, 24.0, 23.0, 22.0, 21.0, 20.0, 19.0, 18.0, 17.0, 16.0, 15.0, 14.0, 13.0, 12.0, 11.0, 10.0, 9.0, 8.0, 7.0, 6.0, 5.0, 4.0, 3.0, 2.0, 1.0, -5.983799934387207, -6.532100200653076, -6.986499786376953, -7.138899803161621, -7.253200054168701, -7.4293999671936035, -7.436800003051758, -7.533699989318848, -6.5177001953125, -7.59089994430542, -7.618000030517578, -7.659599781036377, -7.673099994659424, -7.511300086975098, -7.71120023727417, -7.725500106811523, -7.7245001792907715, -7.744200229644775, -7.724699974060059, -7.770100116729736, -7.375500202178955, -7.813399791717529, -7.809800148010254, -7.840099811553955, -7.858399868011475, -7.871399879455566, -7.868199825286865, -7.891300201416016, -7.92579984664917, -7.940800189971924, -7.57889986038208, -6.301300048828125, -7.262499809265137, -7.222899913787842, -7.577000141143799, -6.3871002197265625, -7.153500080108643, -6.666800022125244, -7.003200054168701, -7.41480016708374, -6.839700222015381, -6.615699768066406, -7.289000034332275, -5.650100231170654, -7.132199764251709, -4.451000213623047, -7.130899906158447, -3.4800000190734863, -5.46120023727417, -6.236000061035156, -5.10099983215332, -6.207799911499023, -5.4847002029418945, -6.306000232696533, -6.0208001136779785, -5.724699974060059, -5.633999824523926, -5.118000030517578, -5.937699794769287, -6.115699768066406, -5.647900104522705, -5.97760009765625, -5.676199913024902, -5.528500080108643, -6.227099895477295, -6.0584001541137695, -5.805799961090088, -6.026400089263916, -5.826499938964844, -5.99429988861084, -6.022500038146973, -5.604700088500977, -6.10230016708374, -5.994900226593018, -6.092100143432617, -6.134500026702881, -6.017199993133545, -6.0904998779296875, -4.916999816894531, -5.85129976272583, -6.2459001541137695, -6.315800189971924, -6.391200065612793, -6.577899932861328, -6.655099868774414, -6.678400039672852, -6.901199817657471, -6.928699970245361, -7.140999794006348, -7.170499801635742, -7.059800148010254, -7.292900085449219, -7.322800159454346, -7.3618998527526855, -7.456299781799316, -7.48799991607666, -7.47790002822876, -7.509399890899658, -7.578400135040283, -7.615799903869629, -7.632299900054932, -7.642300128936768, -7.662600040435791, -7.741099834442139, -7.743100166320801, -7.760499954223633, -5.8592000007629395, -7.843999862670898, -6.321599960327148, -7.038099765777588, -6.384300231933594, -6.642499923706055, -6.314899921417236, -7.174600124359131, -7.044000148773193, -6.5524001121521, -7.185999870300293, -6.951700210571289, -5.954899787902832, -7.085999965667725, -6.1433000564575195, -6.3592000007629395, -4.916299819946289, -5.572400093078613, -5.325200080871582, -6.4893999099731445, -5.805799961090088, -3.414099931716919, -5.777900218963623, -6.267499923706055, -4.92080020904541, -5.460700035095215, -5.781599998474121, -5.155399799346924, -4.823599815368652, -5.759900093078613, -5.542300224304199, -5.809000015258789, -5.466000080108643, -5.84689998626709, -5.889100074768066, -5.8831000328063965, -5.917799949645996, -5.651800155639648, -5.754300117492676, -5.744500160217285, -5.77810001373291, -5.979800224304199, -5.903900146484375, -5.8755998611450195, -6.213699817657471, -6.576600074768066, -6.584799766540527, -6.705399990081787, -6.753300189971924, -7.001299858093262, -7.00600004196167, -6.3790998458862305, -7.237599849700928, -7.2804999351501465, -7.287099838256836, -7.3105998039245605, -7.308899879455566, -7.416299819946289, -7.420400142669678, -7.526299953460693, -7.552299976348877, -6.118800163269043, -7.6417999267578125, -7.654699802398682, -7.676000118255615, -7.72189998626709, -7.019199848175049, -7.6645002365112305, -7.757400035858154, -7.793799877166748, -7.8256001472473145, -7.827099800109863, -7.83459997177124, -7.835700035095215, -7.345600128173828, -6.103600025177002, -7.517899990081787, -5.071300029754639, -6.093100070953369, -6.647600173950195, -5.645400047302246, -6.627099990844727, -6.880000114440918, -6.831600189208984, -7.06790018081665, -6.862299919128418, -6.525400161743164, -6.355899810791016, -3.655100107192993, -6.156099796295166, -6.207699775695801, -6.098899841308594, -6.283299922943115, -5.057799816131592, -5.629199981689453, -3.6112000942230225, -5.826900005340576, -5.762400150299072, -5.782199859619141, -6.018499851226807, -4.055600166320801, -5.5329999923706055, -5.248799800872803, -4.675300121307373, -6.014800071716309, -5.508399963378906, -4.443699836730957, -4.843100070953369, -5.991600036621094, -5.114799976348877, -5.185999870300293, -4.744999885559082, -5.8125, -5.168399810791016, -5.6921000480651855, -5.520100116729736, -5.513299942016602, -6.007800102233887, -6.04449987411499, -5.694200038909912, -5.687900066375732, -5.952000141143799, -0.8718000054359436, -5.9440999031066895, -6.265399932861328, -3.4681999683380127, -6.717599868774414, -7.091899871826172, -7.206600189208984, -7.209199905395508, -7.275300025939941, -7.2291998863220215, -7.326499938964844, -7.346099853515625, -7.358399868011475, -4.735300064086914, -7.412600040435791, -7.469200134277344, -7.506100177764893, -7.523200035095215, -6.155200004577637, -7.55679988861084, -7.581900119781494, -7.585700035095215, -7.5904998779296875, -7.5971999168396, -7.613699913024902, -7.621500015258789, -7.619500160217285, -7.638299942016602, -7.548999786376953, -7.694300174713135, -5.310299873352051, -6.145899772644043, -5.142899990081787, -5.90339994430542, -6.029200077056885, -5.6153998374938965, -7.2546000480651855, -6.042600154876709, -5.934599876403809, -6.668600082397461, -5.4344000816345215, -5.872399806976318, -7.0258002281188965, -6.629899978637695, -5.722499847412109, -6.648900032043457, -3.748199939727783, -6.63129997253418, -6.314499855041504, -6.820300102233887, -5.563499927520752, -3.7335000038146973, -6.120500087738037, -3.97160005569458, -4.504000186920166, -4.652200222015381, -4.810800075531006, -4.663099765777588, -4.859000205993652, -4.587800025939941, -5.476600170135498, -5.322999954223633, -5.283899784088135, -5.7052998542785645, -5.89300012588501, -5.875400066375732, -5.941699981689453, -6.010799884796143, -5.244800090789795, -5.9166998863220215, -6.096399784088135, -6.274400234222412, -6.62060022354126, -6.850599765777588, -6.850399971008301, -6.911300182342529, -6.9583001136779785, -7.040999889373779, -7.043900012969971, -7.082099914550781, -7.087100028991699, -7.113100051879883, -7.11359977722168, -7.157299995422363, -7.16379976272583, -7.196400165557861, -7.2058000564575195, -7.23829984664917, -7.245999813079834, -6.572299957275391, -7.293499946594238, -7.331200122833252, -7.3302998542785645, -7.353000164031982, -7.435200214385986, -7.4440999031066895, -7.478899955749512, -7.506400108337402, -6.648900032043457, -4.751299858093262, -4.424900054931641, -3.7657999992370605, -4.3643999099731445, -6.5792999267578125, -3.2567999362945557, -6.672900199890137, -3.99180006980896, -4.5233001708984375, -4.704999923706055, -4.6331000328063965, -4.959799766540527, -4.7058000564575195, -4.910699844360352, -4.518099784851074, -4.645899772644043, -4.498899936676025, -4.268899917602539, -4.296999931335449, -4.357100009918213, -4.347799777984619, -4.501399993896484, -4.516600131988525, -4.780900001525879, -4.472700119018555, -4.7399001121521, -4.248499870300293, -4.502399921417236, -4.114799976348877, -4.715199947357178, -5.0233001708984375, -4.777100086212158, -4.517600059509277, -4.406000137329102, -4.73360013961792, -4.699399948120117]}, \"token.table\": {\"Topic\": [3, 4, 5, 1, 3, 5, 4, 5, 4, 5, 1, 2, 3, 4, 5, 1, 2, 3, 5, 1, 2, 3, 4, 5, 3, 5, 5, 2, 3, 4, 5, 1, 2, 3, 4, 5, 1, 2, 3, 5, 4, 5, 4, 4, 4, 5, 1, 2, 3, 4, 5, 1, 2, 3, 4, 5, 4, 5, 4, 5, 1, 2, 3, 4, 5, 1, 3, 4, 5, 4, 5, 4, 5, 1, 2, 3, 4, 5, 1, 3, 1, 2, 3, 4, 5, 1, 3, 5, 1, 2, 3, 4, 5, 5, 4, 5, 1, 2, 3, 4, 5, 4, 5, 4, 4, 4, 4, 1, 2, 3, 4, 5, 5, 1, 2, 3, 4, 5, 4, 4, 5, 1, 2, 3, 4, 5, 5, 4, 5, 3, 1, 1, 1, 2, 3, 3, 1, 2, 3, 5, 1, 2, 3, 1, 2, 3, 2, 2, 4, 2, 1, 2, 3, 4, 5, 4, 5, 4, 4, 5, 4, 1, 2, 1, 2, 3, 4, 5, 2, 1, 2, 3, 4, 5, 5, 1, 2, 1, 2, 3, 4, 1, 2, 3, 4, 5, 5, 3, 1, 2, 1, 3, 2, 3, 1, 2, 1, 3, 2, 2, 3, 2, 2, 5, 1, 1, 3, 1, 2, 3, 1, 2, 3, 1, 2, 1, 3, 1, 2, 3, 3, 1, 2, 3, 1, 2, 5, 5, 1, 2, 3, 4, 5, 2, 3, 5, 1, 3, 1, 2, 1, 3, 1, 3, 2, 1, 3, 1, 2, 3, 4, 5, 1, 2, 3, 1, 1, 1, 1, 3, 4, 3, 4, 2, 1, 2, 3, 1, 2, 1, 2, 1, 2, 3, 4, 5, 2, 2, 1, 1, 3, 5, 1, 1, 3, 3, 3, 1, 3, 4, 1, 3, 1, 2, 3, 4, 5, 5, 4, 5, 2, 5, 1, 2, 3, 5, 4, 1, 3, 5, 4, 4, 5, 2, 1, 2, 3, 1, 2, 1, 3, 1, 1, 3, 4, 5, 1, 2, 4, 5, 2, 2, 2, 2, 1, 2, 1, 2, 3, 4, 5, 3, 1, 2, 3, 5, 1, 2, 3, 5, 1, 2, 3, 4, 5, 3, 4, 2, 1, 2, 3, 4, 5, 1, 2, 3, 4, 5, 2, 1, 2, 3, 1, 3, 4, 5, 5, 1, 1, 2, 3, 5, 2, 1, 2, 3, 4, 5, 1, 3, 1, 2, 3, 1, 2, 3, 4, 5, 2, 1, 2, 3, 4, 5, 5, 5, 1, 3, 5, 1, 2, 3, 1, 2, 3, 3, 4, 4, 1, 5, 5, 3, 4, 1, 1, 1, 3, 5, 2, 2, 1, 2, 5, 3, 5, 1, 3, 4, 5, 1, 3, 1, 2, 3, 5, 4, 1, 2, 3, 4, 1, 2, 3, 4, 5, 4, 4, 1, 2, 3, 1, 1, 1, 2, 3, 4, 5, 1, 2, 1, 2, 1, 2, 1, 3, 5, 1, 2, 3, 4, 5, 3, 1, 4, 1, 1, 2, 1, 2, 3, 1, 3, 1, 1, 3, 1, 2, 1, 4, 5, 4, 4, 5, 4, 5, 1, 2, 3, 4, 5, 4, 1, 3, 1, 3, 2, 2, 2, 1, 2, 3, 5, 1, 1, 2, 3, 4, 5, 5, 1, 1, 2, 1, 1, 2, 5, 2, 3, 5, 1, 1, 2, 3, 1, 3, 3, 2, 3, 1, 3, 1, 2, 3, 1, 3, 1, 2, 1, 3, 5, 1, 2, 3, 5, 1, 2, 3, 4, 5, 5, 5, 5, 3, 1, 5, 1, 3, 1, 2, 3, 5, 1, 2, 3, 1, 2, 1, 2, 3, 5, 1, 2, 3, 1, 2, 1, 1, 2, 3, 1, 2, 3, 4, 5, 5, 1, 3, 5, 1, 2, 3, 1, 2, 3, 5, 1, 2, 3, 4, 5, 1, 2, 3, 3, 1, 2, 3, 4, 5, 5, 3, 5, 1, 2, 3, 1, 3, 1, 2, 3, 3, 1, 2, 3, 1, 3, 4, 5, 1, 2, 1, 2, 3, 1, 2, 4, 1, 3, 4, 5, 3, 3, 3, 3, 1, 3, 4, 5, 1, 2, 3, 1, 2, 3, 5, 3, 4, 5], \"Freq\": [0.809071958065033, 0.029080325737595558, 0.1618143916130066, 0.04778043553233147, 0.9406188130378723, 0.012179327197372913, 0.9072100520133972, 0.08713316917419434, 0.9265633225440979, 0.07127410173416138, 0.06596972793340683, 0.026387890800833702, 0.6842130422592163, 0.027546817436814308, 0.19585876166820526, 0.28698885440826416, 0.040178440511226654, 0.6606483459472656, 0.012053532525897026, 0.10241672396659851, 0.06486392021179199, 0.7897467017173767, 0.004551854450255632, 0.03982872515916824, 0.99039226770401, 0.005411979742348194, 0.9899222254753113, 0.0036460491828620434, 0.041929565370082855, 0.8167150616645813, 0.13854987919330597, 0.23766280710697174, 0.08529027551412582, 0.6698641180992126, 0.0038332708645612, 0.002874953206628561, 0.09814777225255966, 0.050961341708898544, 0.8257625102996826, 0.02359321340918541, 0.9201713800430298, 0.07929332554340363, 0.9863468408584595, 0.9950284957885742, 0.8832676410675049, 0.1167011633515358, 0.1197521910071373, 0.029720429331064224, 0.6119424104690552, 0.08642552047967911, 0.15233275294303894, 0.06311294436454773, 0.036539070308208466, 0.8470420837402344, 0.041521672159433365, 0.012456501834094524, 0.9763325452804565, 0.01999315805733204, 0.9906673431396484, 0.010213064961135387, 0.09432370960712433, 0.022986451163887978, 0.44096994400024414, 0.3409656882286072, 0.1007969081401825, 0.030453680083155632, 0.9383540153503418, 0.003806710010394454, 0.026646969839930534, 0.7355825901031494, 0.26392996311187744, 0.9501315355300903, 0.04826871678233147, 0.11561563611030579, 0.01179751381278038, 0.5679966807365417, 0.04590305685997009, 0.2584728002548218, 0.006423809099942446, 0.989266574382782, 0.126220241189003, 0.024203522130846977, 0.5064643621444702, 0.08686123788356781, 0.2562858760356903, 0.012865397147834301, 0.9674778580665588, 0.018011556938290596, 0.08285447955131531, 0.01629471406340599, 0.47116580605506897, 0.017399439588189125, 0.41233912110328674, 0.9931930899620056, 0.955010712146759, 0.03913978114724159, 0.03916170448064804, 0.006006396375596523, 0.38849371671676636, 0.3104105591773987, 0.255632221698761, 0.9422619938850403, 0.05710678547620773, 0.9930834174156189, 0.9958361387252808, 0.9884253740310669, 0.9876760840415955, 0.04523694887757301, 0.023566555231809616, 0.43042823672294617, 0.10239262133836746, 0.39819350838661194, 0.9938236474990845, 0.028674693778157234, 0.009002519771456718, 0.3794395625591278, 0.19105347990989685, 0.39210978150367737, 0.9877349734306335, 0.9040155410766602, 0.0910082757472992, 0.44223302602767944, 0.14803926646709442, 0.09252453595399857, 0.11445628106594086, 0.2026972770690918, 0.9897790551185608, 0.9765333533287048, 0.023079074919223785, 0.9907635450363159, 0.9989510178565979, 0.998581051826477, 0.6379386186599731, 0.22611653804779053, 0.13573162257671356, 0.9904232025146484, 0.5558666586875916, 0.40755152702331543, 0.035713277757167816, 0.0008403124520555139, 0.8363563418388367, 0.14375826716423035, 0.01949264481663704, 0.1549282670021057, 0.8129382133483887, 0.02959303930401802, 0.9984853863716125, 0.9980053901672363, 0.9999816417694092, 0.9942494630813599, 0.11094772070646286, 0.032904647290706635, 0.0953391045331955, 0.14174309372901917, 0.6192823052406311, 0.9968920350074768, 0.9888730645179749, 0.9939221739768982, 0.9603328704833984, 0.03961373120546341, 0.9889993667602539, 0.038819391280412674, 0.9593935608863831, 0.3100949823856354, 0.68531733751297, 0.00444050133228302, 0.9106838703155518, 0.08804954588413239, 0.9980455636978149, 0.9966998100280762, 0.0022703867871314287, 0.9940544962882996, 0.8945045471191406, 0.1037822961807251, 0.9926407337188721, 0.4971771240234375, 0.5024718642234802, 0.9744162559509277, 0.010171359404921532, 0.014239903539419174, 0.9977258443832397, 0.09474661201238632, 0.005248354747891426, 0.3165586590766907, 0.07789663225412369, 0.5057756304740906, 0.9965182542800903, 0.9972695112228394, 0.9980986714363098, 0.0019268314354121685, 0.15830732882022858, 0.8414788246154785, 0.9941991567611694, 0.9959582686424255, 0.19576053321361542, 0.8037124872207642, 0.946689784526825, 0.052425846457481384, 0.9977590441703796, 0.9937704801559448, 0.005659285467118025, 0.9947081208229065, 0.9989742040634155, 0.9937838912010193, 0.9970652461051941, 0.9840825200080872, 0.01399169396609068, 0.05704376474022865, 0.03280016407370567, 0.9098480343818665, 0.2916029691696167, 0.06302876770496368, 0.6447159647941589, 0.987413763999939, 0.011571254581212997, 0.9984774589538574, 0.9918495416641235, 0.9604142308235168, 0.03452887386083603, 0.005115388426929712, 0.9971176981925964, 0.968916118144989, 0.010647429153323174, 0.019773798063397408, 0.7351025938987732, 0.26384222507476807, 0.000794705527368933, 0.9992461204528809, 0.13143742084503174, 0.02468038909137249, 0.12168006598949432, 0.02353246510028839, 0.6985124349594116, 0.9965061545372009, 0.9746089577674866, 0.023835545405745506, 0.9988552927970886, 0.9947450160980225, 0.05490462854504585, 0.9406992793083191, 0.14568272233009338, 0.8531081676483154, 0.08610589802265167, 0.9127225279808044, 0.9956044554710388, 0.25667575001716614, 0.7429043054580688, 0.3391866087913513, 0.06120363622903824, 0.1690010130405426, 0.0805518850684166, 0.3498478829860687, 0.1966044306755066, 0.10485569387674332, 0.6984138488769531, 0.9994461536407471, 0.9970344305038452, 0.9979813694953918, 0.06569509208202362, 0.2563396692276001, 0.676272988319397, 0.020153572782874107, 0.9774482250213623, 0.9971621632575989, 0.5961545705795288, 0.40211033821105957, 0.0013569528236985207, 0.05748206749558449, 0.941691517829895, 0.04611552134156227, 0.9506891965866089, 0.038019269704818726, 0.0020737783052027225, 0.04977067932486534, 0.22535057365894318, 0.6850380897521973, 0.9984377026557922, 0.9984301328659058, 0.9989152550697327, 0.185053288936615, 0.8111801743507385, 0.0035932676400989294, 0.9978821873664856, 0.003911374602466822, 0.9934892058372498, 0.9898625016212463, 0.9961828589439392, 0.0020675170235335827, 0.9965432286262512, 0.9955820441246033, 0.031688328832387924, 0.9687575101852417, 0.04536717012524605, 0.022094400599598885, 0.06481024622917175, 0.3128567337989807, 0.5547167658805847, 0.992253839969635, 0.9906671643257141, 0.008241823874413967, 0.9978947639465332, 0.9951850175857544, 0.7795154452323914, 0.13763850927352905, 0.08216442912817001, 0.0005233403062447906, 0.994799017906189, 0.016149859875440598, 0.9770665168762207, 0.004037464968860149, 0.9979737997055054, 0.9171581864356995, 0.08107475936412811, 0.9998706579208374, 0.7244933247566223, 0.26689714193344116, 0.008557007648050785, 0.9824927449226379, 0.016807807609438896, 0.004772040992975235, 0.9941752552986145, 0.9992271065711975, 0.07330400496721268, 0.11564338952302933, 0.04107552021741867, 0.769692063331604, 0.33444106578826904, 0.6554372906684875, 0.005041825119405985, 0.005602027755230665, 0.9969475865364075, 0.9963735342025757, 0.9940981268882751, 0.9977744817733765, 0.18007856607437134, 0.8188187479972839, 0.6255086064338684, 0.29312393069267273, 0.027853142470121384, 0.0059643941931426525, 0.047541435807943344, 0.9951672554016113, 0.6484548449516296, 0.2631058990955353, 0.08608285337686539, 0.002428669948130846, 0.07895888388156891, 0.06050096079707146, 0.8582932949066162, 0.0020508801098912954, 0.6523533463478088, 0.3089219629764557, 0.0315990149974823, 0.002494659274816513, 0.004573541693389416, 0.9984884262084961, 0.9857402443885803, 0.9973891377449036, 0.6189107894897461, 0.2891213297843933, 0.08378074318170547, 0.00044446016545407474, 0.007555822841823101, 0.10188420116901398, 0.012129071168601513, 0.06226256862282753, 0.05983675271272659, 0.7633228898048401, 0.999267041683197, 0.008955059573054314, 0.9904295802116394, 0.9982457756996155, 0.08357119560241699, 0.007291446439921856, 0.005608804989606142, 0.9035784602165222, 0.9943307638168335, 0.9997246861457825, 0.6708360910415649, 0.32700544595718384, 0.001356869121082127, 0.0005427476135082543, 0.9928816556930542, 0.0669257864356041, 0.012012320570647717, 0.10925491899251938, 0.06406570971012115, 0.7487679719924927, 0.9979374408721924, 0.9949802160263062, 0.18954060971736908, 0.8045393824577332, 0.005040973424911499, 0.7298749089241028, 0.24705387651920319, 0.023075083270668983, 0.05063556507229805, 0.9468850493431091, 0.9981739521026611, 0.023372232913970947, 0.000584305846132338, 0.015484104864299297, 0.20348450541496277, 0.7569682002067566, 0.9883451461791992, 0.9895147085189819, 0.0736212432384491, 0.9233331084251404, 0.0015337759396061301, 0.6741037368774414, 0.2922438085079193, 0.03370518982410431, 0.5648388862609863, 0.4049234688282013, 0.02983131818473339, 0.003965945448726416, 0.995918869972229, 0.982275128364563, 0.055250853300094604, 0.9392645359039307, 0.989448606967926, 0.9924179911613464, 0.9898605942726135, 0.9955886602401733, 0.9962955713272095, 0.022189926356077194, 0.973186731338501, 0.0031699894461780787, 0.9955297112464905, 0.9909090995788574, 0.7577187418937683, 0.2408253252506256, 0.0009789647301658988, 0.011336303316056728, 0.986258327960968, 0.05824701860547066, 0.12015737593173981, 0.4084618091583252, 0.4135904610157013, 0.9449138641357422, 0.053898829966783524, 0.6825111508369446, 0.1104980856180191, 0.2042067050933838, 0.0023427156265825033, 0.9896082282066345, 0.8229084014892578, 0.06294199824333191, 0.1136452779173851, 0.9923232793807983, 0.04480677843093872, 0.0077086929231882095, 0.2355969250202179, 0.09009534865617752, 0.6224769353866577, 0.9864318370819092, 0.990688681602478, 0.6336191892623901, 0.3386143147945404, 0.02761426940560341, 0.9954376220703125, 0.9960682392120361, 0.1131526306271553, 0.007508984766900539, 0.0365092009305954, 0.392279714345932, 0.45079800486564636, 0.03711805120110512, 0.9609450697898865, 0.9954954385757446, 0.0027807133737951517, 0.032714925706386566, 0.965090274810791, 0.0549292266368866, 0.9241034388542175, 0.021002350375056267, 0.4312068819999695, 0.5687187314033508, 0.9940968155860901, 0.8569169640541077, 0.14329715073108673, 0.9914763569831848, 0.9984829425811768, 0.9890610575675964, 0.9975118041038513, 0.990888237953186, 0.008280402980744839, 0.6709253191947937, 0.16464154422283173, 0.16420014202594757, 0.4789818227291107, 0.5208451747894287, 0.9989097118377686, 0.050165221095085144, 0.9485787153244019, 0.9606044888496399, 0.038768790662288666, 0.09582873433828354, 0.6182870268821716, 0.285761296749115, 0.9941825866699219, 0.9453617334365845, 0.054331131279468536, 0.9893157482147217, 0.990771472454071, 0.054684944450855255, 0.005646814592182636, 0.03893330320715904, 0.38844141364097595, 0.5123741626739502, 0.9868116974830627, 0.02334546111524105, 0.973839282989502, 0.9501897692680359, 0.047509487718343735, 0.9983682036399841, 0.996471643447876, 0.9930270314216614, 0.7020989060401917, 0.2898298501968384, 0.00727785425260663, 0.0008562181610614061, 0.9969454407691956, 0.23382841050624847, 0.0029083136469125748, 0.026174822822213173, 0.014250736683607101, 0.7227159142494202, 0.9987925887107849, 0.9980254769325256, 0.4340929090976715, 0.5653302669525146, 0.9972278475761414, 0.38504505157470703, 0.6149227023124695, 0.9976031184196472, 0.9953711032867432, 0.9992678761482239, 0.999120831489563, 0.9975821375846863, 0.5678324103355408, 0.3939684331417084, 0.03791714832186699, 0.020061951130628586, 0.9799491763114929, 0.9893600940704346, 0.9879910349845886, 0.010977678000926971, 0.25774016976356506, 0.741278350353241, 0.047383714467287064, 0.9287208318710327, 0.022112401202321053, 0.9600053429603577, 0.03905106708407402, 0.8322463631629944, 0.1670994609594345, 0.9975799322128296, 0.9892852306365967, 0.9909188151359558, 0.6379327774047852, 0.06439699977636337, 0.29743364453315735, 0.9849324226379395, 0.08298031240701675, 0.004341993015259504, 0.07429632544517517, 0.0130259795114398, 0.8259435892105103, 0.9936009645462036, 0.9949524402618408, 0.9910634160041809, 0.9949449300765991, 0.9973375201225281, 0.9859161972999573, 0.9816156625747681, 0.016121424734592438, 0.7043177485466003, 0.2128792256116867, 0.0822937861084938, 0.000516488216817379, 0.5802698135375977, 0.41583001613616943, 0.003604160388931632, 0.5717243552207947, 0.428056925535202, 0.639771044254303, 0.2545749247074127, 0.10546675324440002, 0.0003030654042959213, 0.705253005027771, 0.2678104639053345, 0.027006099000573158, 0.03364027664065361, 0.9635536074638367, 0.9976558089256287, 0.7730918526649475, 0.18249143660068512, 0.04448796436190605, 0.3682222068309784, 0.2504281997680664, 0.004637559410184622, 0.020637139678001404, 0.3561645448207855, 0.9939050674438477, 0.02926088683307171, 0.9656093120574951, 0.0032512096222490072, 0.7244754433631897, 0.06994716823101044, 0.20541046559810638, 0.7531751990318298, 0.12018174678087234, 0.12616364657878876, 0.9969452023506165, 0.0506049282848835, 0.0071163177490234375, 0.17000092566013336, 0.18028005957603455, 0.5914450883865356, 0.1708696335554123, 0.06555375456809998, 0.7630027532577515, 0.9966391921043396, 0.006826574914157391, 0.002888166345655918, 0.07798048853874207, 0.09452180564403534, 0.8178761601448059, 0.9934586882591248, 0.005268914625048637, 0.990556001663208, 0.6322339177131653, 0.3510906398296356, 0.01624584011733532, 0.9883386492729187, 0.010044092312455177, 0.6933507323265076, 0.30060213804244995, 0.005733556114137173, 0.9991419315338135, 0.021426649764180183, 0.023569313809275627, 0.9545572400093079, 0.9987074732780457, 0.023776361718773842, 0.8423625230789185, 0.1324682980775833, 0.08909083902835846, 0.9095553159713745, 0.2690408229827881, 0.6685950756072998, 0.06182214617729187, 0.7063323855400085, 0.2935471832752228, 0.9960948824882507, 0.019316885620355606, 0.31597819924354553, 0.4188310205936432, 0.2458745241165161, 0.9977162480354309, 0.9947440028190613, 0.9951514601707458, 0.9964820146560669, 0.021276937797665596, 0.016366874799132347, 0.011456812731921673, 0.9517338275909424, 0.876666247844696, 0.10838394612073898, 0.014925003051757812, 0.5427888631820679, 0.3873189389705658, 0.06959990411996841, 0.9887822866439819, 0.11667080968618393, 0.12548594176769257, 0.7570639252662659], \"Term\": [\"0\", \"0\", \"0\", \"00\", \"00\", \"00\", \"0d\", \"0d\", \"0t\", \"0t\", \"1\", \"1\", \"1\", \"1\", \"1\", \"10\", \"10\", \"10\", \"10\", \"11\", \"11\", \"11\", \"11\", \"11\", \"128\", \"128\", \"13p\", \"145\", \"145\", \"145\", \"145\", \"15\", \"15\", \"15\", \"15\", \"15\", \"16\", \"16\", \"16\", \"16\", \"1d9\", \"1d9\", \"1d9l\", \"1eq\", \"1t\", \"1t\", \"2\", \"2\", \"2\", \"2\", \"2\", \"25\", \"25\", \"25\", \"25\", \"25\", \"2di\", \"2di\", \"2tm\", \"2tm\", \"3\", \"3\", \"3\", \"3\", \"3\", \"32\", \"32\", \"32\", \"32\", \"34u\", \"34u\", \"3t\", \"3t\", \"4\", \"4\", \"4\", \"4\", \"4\", \"486\", \"486\", \"5\", \"5\", \"5\", \"5\", \"5\", \"55\", \"55\", \"55\", \"6\", \"6\", \"6\", \"6\", \"6\", \"6g\", \"6um\", \"6um\", \"7\", \"7\", \"7\", \"7\", \"7\", \"75u\", \"75u\", \"7ex\", \"7ey\", \"7ez\", \"7kn\", \"8\", \"8\", \"8\", \"8\", \"8\", \"8c\", \"9\", \"9\", \"9\", \"9\", \"9\", \"9f9\", \"9v\", \"9v\", \"a\", \"a\", \"a\", \"a\", \"a\", \"a7\", \"a86\", \"a86\", \"adapter\", \"administration\", \"agency\", \"also\", \"also\", \"also\", \"amiga\", \"and\", \"and\", \"and\", \"and\", \"anyone\", \"anyone\", \"anyone\", \"argument\", \"argument\", \"argument\", \"atheism\", \"atheist\", \"ax\", \"azerbaijani\", \"b\", \"b\", \"b\", \"b\", \"b\", \"b4q\", \"b8\", \"b8e\", \"b8f\", \"b8f\", \"b8g\", \"belief\", \"belief\", \"believe\", \"believe\", \"believe\", \"bhj\", \"bhj\", \"bible\", \"bike\", \"bike\", \"bios\", \"bj\", \"bj\", \"bn\", \"but\", \"but\", \"buy\", \"buy\", \"buy\", \"bxn\", \"c\", \"c\", \"c\", \"c\", \"c\", \"c8\", \"cache\", \"car\", \"car\", \"card\", \"card\", \"catholic\", \"chi\", \"child\", \"child\", \"chip\", \"chip\", \"christ\", \"christian\", \"christian\", \"christianity\", \"church\", \"ck\", \"clinton\", \"clipper\", \"clipper\", \"color\", \"color\", \"color\", \"com\", \"com\", \"com\", \"company\", \"company\", \"congress\", \"contrib\", \"control\", \"control\", \"control\", \"controller\", \"cost\", \"cost\", \"cost\", \"could\", \"could\", \"could\", \"cx\", \"d\", \"d\", \"d\", \"d\", \"d\", \"daughter\", \"db\", \"db\", \"designed\", \"det\", \"disease\", \"disease\", \"disk\", \"disk\", \"display\", \"display\", \"doctrine\", \"drive\", \"drive\", \"e\", \"e\", \"e\", \"e\", \"e\", \"edu\", \"edu\", \"edu\", \"encryption\", \"enforcement\", \"engine\", \"entry\", \"entry\", \"entry\", \"eof\", \"eof\", \"eternal\", \"even\", \"even\", \"even\", \"evidence\", \"evidence\", \"existence\", \"existence\", \"f\", \"f\", \"f\", \"f\", \"f\", \"faith\", \"father\", \"federal\", \"file\", \"file\", \"file\", \"firearm\", \"floppy\", \"floppy\", \"flyer\", \"font\", \"format\", \"format\", \"fprintf\", \"ftp\", \"ftp\", \"g\", \"g\", \"g\", \"g\", \"g\", \"g6\", \"g9v\", \"g9v\", \"gay\", \"gcx\", \"get\", \"get\", \"get\", \"get\", \"ghj\", \"gif\", \"gif\", \"gif\", \"giz\", \"gk\", \"gk\", \"god\", \"good\", \"good\", \"good\", \"government\", \"government\", \"graphic\", \"graphic\", \"gun\", \"h\", \"h\", \"h\", \"h\", \"he\", \"he\", \"he\", \"he\", \"heaven\", \"him\", \"holy\", \"homosexual\", \"human\", \"human\", \"i\", \"i\", \"i\", \"i\", \"i\", \"ide\", \"if\", \"if\", \"if\", \"if\", \"image\", \"image\", \"image\", \"image\", \"in\", \"in\", \"in\", \"in\", \"in\", \"interface\", \"ioccc\", \"islam\", \"it\", \"it\", \"it\", \"it\", \"it\", \"j\", \"j\", \"j\", \"j\", \"j\", \"jesus\", \"jew\", \"jew\", \"jpeg\", \"k\", \"k\", \"k\", \"k\", \"k8\", \"key\", \"know\", \"know\", \"know\", \"know\", \"koresh\", \"l\", \"l\", \"l\", \"l\", \"l\", \"launch\", \"lib\", \"life\", \"life\", \"life\", \"like\", \"like\", \"like\", \"lk\", \"lk\", \"lord\", \"m\", \"m\", \"m\", \"m\", \"m\", \"m0\", \"m6\", \"mac\", \"mac\", \"mac\", \"make\", \"make\", \"make\", \"many\", \"many\", \"many\", \"max\", \"max\", \"mb8f\", \"mc\", \"mc\", \"mcx\", \"menu\", \"mg9v\", \"mile\", \"million\", \"mit\", \"mit\", \"mit\", \"moral\", \"morality\", \"much\", \"much\", \"much\", \"mv\", \"mv\", \"n\", \"n\", \"n\", \"n\", \"national\", \"national\", \"new\", \"new\", \"new\", \"new\", \"nrhj\", \"number\", \"number\", \"number\", \"nuy\", \"o\", \"o\", \"o\", \"o\", \"o\", \"obfuscated\", \"oname\", \"one\", \"one\", \"one\", \"orbit\", \"owner\", \"p\", \"p\", \"p\", \"p\", \"p\", \"pain\", \"pain\", \"paper\", \"paper\", \"patient\", \"patient\", \"pc\", \"pc\", \"pc\", \"people\", \"people\", \"pixel\", \"pl\", \"pl\", \"postscript\", \"president\", \"printf\", \"privacy\", \"private\", \"private\", \"problem\", \"problem\", \"problem\", \"program\", \"program\", \"project\", \"pub\", \"pub\", \"public\", \"public\", \"q\", \"q\", \"q\", \"qax\", \"qq\", \"qq\", \"qtm\", \"qy\", \"r\", \"r\", \"r\", \"r\", \"r\", \"r8f\", \"ram\", \"ram\", \"rate\", \"rate\", \"religion\", \"religious\", \"revelation\", \"right\", \"right\", \"right\", \"right\", \"ripem\", \"s\", \"s\", \"s\", \"s\", \"s\", \"s6\", \"safety\", \"said\", \"said\", \"satellite\", \"say\", \"say\", \"sc\", \"scripture\", \"scsi\", \"scx\", \"security\", \"see\", \"see\", \"see\", \"server\", \"server\", \"simms\", \"sin\", \"sin\", \"software\", \"software\", \"son\", \"son\", \"son\", \"space\", \"space\", \"state\", \"state\", \"stephanopoulos\", \"stl\", \"sy\", \"system\", \"system\", \"system\", \"syx\", \"t\", \"t\", \"t\", \"t\", \"t\", \"t4\", \"t5\", \"t7\", \"tar\", \"tax\", \"te\", \"technology\", \"technology\", \"the\", \"the\", \"the\", \"the\", \"thing\", \"thing\", \"thing\", \"think\", \"think\", \"this\", \"this\", \"this\", \"this\", \"time\", \"time\", \"time\", \"truth\", \"truth\", \"turkish\", \"two\", \"two\", \"two\", \"u\", \"u\", \"u\", \"u\", \"u\", \"ub\", \"unix\", \"unix\", \"unix\", \"use\", \"use\", \"use\", \"used\", \"used\", \"used\", \"uw\", \"v\", \"v\", \"v\", \"v\", \"v\", \"version\", \"version\", \"version\", \"vga\", \"w\", \"w\", \"w\", \"w\", \"w\", \"w1\", \"w7\", \"w7\", \"way\", \"way\", \"way\", \"weapon\", \"weapon\", \"well\", \"well\", \"well\", \"widget\", \"window\", \"window\", \"window\", \"wire\", \"wm\", \"wm\", \"wm\", \"woman\", \"woman\", \"word\", \"word\", \"word\", \"would\", \"would\", \"wwiz\", \"x\", \"x\", \"x\", \"x\", \"x11\", \"x11r5\", \"xlib\", \"xterm\", \"y\", \"y\", \"y\", \"y\", \"year\", \"year\", \"year\", \"you\", \"you\", \"you\", \"yx\", \"z\", \"z\", \"z\"]}, \"R\": 30, \"lambda.step\": 0.01, \"plot.opts\": {\"xlab\": \"PC1\", \"ylab\": \"PC2\"}, \"topic.order\": [2, 3, 4, 5, 1]};\n",
       "\n",
       "function LDAvis_load_lib(url, callback){\n",
       "  var s = document.createElement('script');\n",
       "  s.src = url;\n",
       "  s.async = true;\n",
       "  s.onreadystatechange = s.onload = callback;\n",
       "  s.onerror = function(){console.warn(\"failed to load library \" + url);};\n",
       "  document.getElementsByTagName(\"head\")[0].appendChild(s);\n",
       "}\n",
       "\n",
       "if(typeof(LDAvis) !== \"undefined\"){\n",
       "   // already loaded: just create the visualization\n",
       "   !function(LDAvis){\n",
       "       new LDAvis(\"#\" + \"ldavis_el1622420129344315602734888893\", ldavis_el1622420129344315602734888893_data);\n",
       "   }(LDAvis);\n",
       "}else if(typeof define === \"function\" && define.amd){\n",
       "   // require.js is available: use it to load d3/LDAvis\n",
       "   require.config({paths: {d3: \"https://cdnjs.cloudflare.com/ajax/libs/d3/3.5.5/d3.min\"}});\n",
       "   require([\"d3\"], function(d3){\n",
       "      window.d3 = d3;\n",
       "      LDAvis_load_lib(\"https://cdn.rawgit.com/bmabey/pyLDAvis/files/ldavis.v1.0.0.js\", function(){\n",
       "        new LDAvis(\"#\" + \"ldavis_el1622420129344315602734888893\", ldavis_el1622420129344315602734888893_data);\n",
       "      });\n",
       "    });\n",
       "}else{\n",
       "    // require.js not available: dynamically load d3 & LDAvis\n",
       "    LDAvis_load_lib(\"https://cdnjs.cloudflare.com/ajax/libs/d3/3.5.5/d3.min.js\", function(){\n",
       "         LDAvis_load_lib(\"https://cdn.rawgit.com/bmabey/pyLDAvis/files/ldavis.v1.0.0.js\", function(){\n",
       "                 new LDAvis(\"#\" + \"ldavis_el1622420129344315602734888893\", ldavis_el1622420129344315602734888893_data);\n",
       "            })\n",
       "         });\n",
       "}\n",
       "</script>"
      ],
      "text/plain": [
       "PreparedData(topic_coordinates=              x         y  topics  cluster       Freq\n",
       "topic                                                \n",
       "1     -0.255787  0.014153       1        1  44.824524\n",
       "2     -0.254079  0.126904       2        1  19.665817\n",
       "3     -0.015632 -0.245500       3        1  18.156199\n",
       "4      0.284119  0.159481       4        1   8.752985\n",
       "0      0.241379 -0.055038       5        1   8.600473, topic_info=     Category          Freq Term         Total  loglift  logprob\n",
       "6165  Default  57266.000000   ax  57266.000000  30.0000  30.0000\n",
       "2487  Default   6845.000000    m   6845.000000  29.0000  29.0000\n",
       "48    Default  11217.000000    1  11217.000000  28.0000  28.0000\n",
       "317   Default   9078.000000    0   9078.000000  27.0000  27.0000\n",
       "2279  Default   4286.000000  max   4286.000000  26.0000  26.0000\n",
       "...       ...           ...  ...           ...      ...      ...\n",
       "826    Topic5   1133.014038    5   4420.844238   1.0919  -4.7771\n",
       "317    Topic5   1468.641113    0   9078.302734   0.6318  -4.5176\n",
       "20     Topic5   1642.103882    i  34538.292969  -0.5927  -4.4060\n",
       "51     Topic5   1183.398926    a   5836.289551   0.8576  -4.7336\n",
       "0      Topic5   1224.500244    2   8041.606445   0.5713  -4.6994\n",
       "\n",
       "[393 rows x 6 columns], token_table=       Topic      Freq Term\n",
       "term                       \n",
       "317        3  0.809072    0\n",
       "317        4  0.029080    0\n",
       "317        5  0.161814    0\n",
       "2635       1  0.047780   00\n",
       "2635       3  0.940619   00\n",
       "...      ...       ...  ...\n",
       "287        3  0.069600  you\n",
       "15924      5  0.988782   yx\n",
       "3051       3  0.116671    z\n",
       "3051       4  0.125486    z\n",
       "3051       5  0.757064    z\n",
       "\n",
       "[678 rows x 3 columns], R=30, lambda_step=0.01, plot_opts={'xlab': 'PC1', 'ylab': 'PC2'}, topic_order=[2, 3, 4, 5, 1])"
      ]
     },
     "execution_count": 16,
     "metadata": {},
     "output_type": "execute_result"
    }
   ],
   "source": [
    "import pyLDAvis.gensim\n",
    "pyLDAvis.enable_notebook()\n",
    "vis = pyLDAvis.gensim.prepare(ldamodel, corpus, dictionary=ldamodel.id2word)\n",
    "vis"
   ]
  },
  {
   "cell_type": "code",
   "execution_count": null,
   "metadata": {},
   "outputs": [],
   "source": []
  }
 ],
 "metadata": {
  "kernelspec": {
   "display_name": "Python 3",
   "language": "python",
   "name": "python3"
  },
  "language_info": {
   "codemirror_mode": {
    "name": "ipython",
    "version": 3
   },
   "file_extension": ".py",
   "mimetype": "text/x-python",
   "name": "python",
   "nbconvert_exporter": "python",
   "pygments_lexer": "ipython3",
   "version": "3.7.4"
  }
 },
 "nbformat": 4,
 "nbformat_minor": 2
}
